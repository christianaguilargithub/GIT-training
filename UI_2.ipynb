{
 "cells": [
  {
   "cell_type": "code",
   "execution_count": 1,
   "id": "184bc580-ea9c-45c2-ad6b-c9423d4132c3",
   "metadata": {
    "tags": []
   },
   "outputs": [],
   "source": [
    "# 1\n",
    "import numpy as np\n",
    "import matplotlib.pyplot as plt\n",
    "from ipyleaflet import Map, basemaps, basemap_to_tiles\n",
    "import geemap,ee\n",
    "import shapely\n",
    "import geopandas as gpd\n",
    "import json\n",
    "import ipywidgets as widgets\n",
    "from ipywidgets import interact, interactive, fixed, interact_manual\n",
    "from ipyleaflet import Map, basemaps, WidgetControl\n",
    "from IPython.display import display,update_display\n",
    "from datetime import datetime\n",
    "import threading\n",
    "import copy\n",
    "import rasterio as rio\n",
    "import pandas as pd"
   ]
  },
  {
   "cell_type": "code",
   "execution_count": 2,
   "id": "c7df32e6-d244-4220-87fb-47ee6200f959",
   "metadata": {},
   "outputs": [
    {
     "data": {
      "text/html": [
       "<p>To authorize access needed by Earth Engine, open the following\n",
       "        URL in a web browser and follow the instructions:</p>\n",
       "        <p><a href=https://code.earthengine.google.com/client-auth?scopes=https%3A//www.googleapis.com/auth/earthengine%20https%3A//www.googleapis.com/auth/devstorage.full_control&request_id=SwWLKyVn9FJWekH36_RNGBt_Glzkuc07sWuZirX_dO8&tc=eZs5yirB7BLiTZdyyUYdNeyT7ENcmiAaz-Ti1Zm7fMs&cc=HVs4HrLUhC-pu1k0NW6wO_xIgD4h11bMF1eCPX_0Kxo>https://code.earthengine.google.com/client-auth?scopes=https%3A//www.googleapis.com/auth/earthengine%20https%3A//www.googleapis.com/auth/devstorage.full_control&request_id=SwWLKyVn9FJWekH36_RNGBt_Glzkuc07sWuZirX_dO8&tc=eZs5yirB7BLiTZdyyUYdNeyT7ENcmiAaz-Ti1Zm7fMs&cc=HVs4HrLUhC-pu1k0NW6wO_xIgD4h11bMF1eCPX_0Kxo</a></p>\n",
       "        <p>The authorization workflow will generate a code, which you should paste in the box below.</p>\n",
       "        "
      ],
      "text/plain": [
       "<IPython.core.display.HTML object>"
      ]
     },
     "metadata": {},
     "output_type": "display_data"
    },
    {
     "name": "stdin",
     "output_type": "stream",
     "text": [
      "Enter verification code:  4/1AfJohXnN4Hs9JxMunfXmd6Tq9JvEzjJdgJRK8BRTrSnpmTYERWH64dEnX5I\n"
     ]
    },
    {
     "name": "stdout",
     "output_type": "stream",
     "text": [
      "\n",
      "Successfully saved authorization token.\n"
     ]
    }
   ],
   "source": [
    "# 2\n",
    "# import ee\n",
    "ee.Authenticate()"
   ]
  },
  {
   "cell_type": "code",
   "execution_count": 3,
   "id": "a899b31c-81d3-4c62-b096-209d55e33da0",
   "metadata": {},
   "outputs": [],
   "source": [
    "# 3\n",
    "ee.Initialize()"
   ]
  },
  {
   "cell_type": "markdown",
   "id": "f1d713b6-c158-4cee-9ebb-912b7edafc4a",
   "metadata": {},
   "source": [
    "# [UPDATE ALWAYS]Set land cover classes, and file paths/urls of shapefile and raster file"
   ]
  },
  {
   "cell_type": "code",
   "execution_count": 8,
   "id": "3d234df8-5cfd-405a-b5be-992e49815e6b",
   "metadata": {
    "tags": []
   },
   "outputs": [],
   "source": [
    "# 4\n",
    "classes = ['Annual Crop','Brush/Shrubs','Built-up','Closed Forest','Fishpond','Grassland','Inland Water','Mangrove Forest','Marshland/Swamp','Open Forest','Open/Barren','Perennial Crop','Mixed','Others','Fallow Land', 'Clouds']\n",
    "shapefile_url = \"ESPT1/ESPT2.shp\"\n",
    "raster_url = 'to_segment_naga_RGB.tif'\n",
    "# new_shapefile_url=\"ESPT4.geojson\""
   ]
  },
  {
   "cell_type": "markdown",
   "id": "521ba2b4-1e0e-4f4c-b28c-32ba15520a10",
   "metadata": {},
   "source": [
    "# [Raster image adjuster - optional] - modify and run if loaded basis raster is not ok"
   ]
  },
  {
   "cell_type": "code",
   "execution_count": 9,
   "id": "464bde50-7984-4247-a7eb-106ab52e10ca",
   "metadata": {},
   "outputs": [
    {
     "name": "stdout",
     "output_type": "stream",
     "text": [
      "dtype uint16\n",
      "mod dtype uint16\n",
      "check\n",
      "1st: (5804, 9479)\n",
      "2nd: (5804, 9479)\n",
      "3rd: (5804, 9479)\n",
      "indiv dtype float64\n",
      "stacked shape: (3, 5804, 9479)\n",
      "array shape: (3, 5804, 9479)\n",
      "mod dtype float64\n"
     ]
    }
   ],
   "source": [
    "# 5\n",
    "\"function to create bright version of image\"\n",
    "# Reading of raster file, its value, and its properties\n",
    "with rio.open(raster_url) as ds:\n",
    "    arr=ds.read()\n",
    "    print (\"dtype\",arr.dtype)\n",
    "    #arr=arr.astype(\"uint8\")\n",
    "    stretched=np.copy(arr)\n",
    "    print (\"mod dtype\",stretched.dtype)\n",
    "    i_total=arr.shape[1]\n",
    "    j_total=arr.shape[2]\n",
    "    b_total=arr.shape[0]\n",
    "    gamma=0.5\n",
    "    stack=[]\n",
    "    for b in range(b_total):\n",
    "        stack.append(stretched[b][:][:])\n",
    "\n",
    "    print (\"check\")\n",
    "    print (f\"1st: {stack[0].shape}\")\n",
    "    print (f\"2nd: {stack[1].shape}\")\n",
    "    print (f\"3rd: {stack[2].shape}\")\n",
    "\n",
    "    b_stretched=255*((stack[0]/255)**gamma)\n",
    "    g_stretched=255*((stack[1]/255)**gamma)\n",
    "    r_stretched=255*((stack[2]/255)**gamma)\n",
    "    print (\"indiv dtype\",b_stretched.dtype)\n",
    "    bgr_stretched=[b_stretched,g_stretched,r_stretched]\n",
    "    stretched=np.stack(bgr_stretched)\n",
    "    print (f\"stacked shape: {stretched.shape}\")              \n",
    "    print (\"array shape:\",arr.shape)\n",
    "    print (\"mod dtype\",stretched.dtype)\n",
    "    \n",
    "data=rio.open(raster_url)\n",
    "values = data.read([(i+1) for i in range (data.count)])     ##loading bands (create iterative func)\n",
    "crs = data.crs                                          ##create as one function\n",
    "transform = data.transform\n",
    "height = data.height\n",
    "count=data.count\n",
    "width = data.width\n",
    "data.close()\n",
    "\n",
    "# Defining windows for windowed processing of raster file\n",
    "new_raster_url=\"raster_final.tif\"\n",
    "new_dataset = rio.open(new_raster_url, 'w', driver='GTiff',\n",
    "                            height = height, width = width,\n",
    "                            count=count, dtype=stretched.dtype,\n",
    "                            crs=crs,\n",
    "                            transform=transform)\n",
    "\n",
    "new_dataset.write(stretched)\n",
    "new_dataset.close()          "
   ]
  },
  {
   "cell_type": "markdown",
   "id": "21f05c1a-bfc8-431a-a53d-e8e36369e025",
   "metadata": {},
   "source": [
    "# [Vector label maker -optional] - modify and run if vector label container is not compatible"
   ]
  },
  {
   "cell_type": "code",
   "execution_count": 12,
   "id": "8de88a28-7160-449b-a30e-c8738bb681a0",
   "metadata": {},
   "outputs": [],
   "source": [
    "# 6\n",
    "#function to convert ecog shp to usable\n",
    "test_shape = gpd.read_file(shapefile_url)\n",
    "df=gpd.GeoDataFrame(test_shape.copy(deep=False))\n",
    "#columns=[\"index\",\"class\",\"classified_by\"]\n",
    "##index,class,classified by, geometry\n",
    "\n",
    "#df.rename(columns={\"ID\":\"index\"},inplace=True)\n",
    "df.drop([\"class\",\"index\",\"classified\"],axis=1,inplace=True)\n",
    "indices=[i for i in range (df.shape[0])]\n",
    "df.insert(0,\"index\",indices,True)\n",
    "classd=[None for i in range (df.shape[0])]\n",
    "classified=[\"wala pa\" for i in range (df.shape[0])]      #creating columns\n",
    "df.insert(1,'class',classd,True)\n",
    "df.insert(2,'classified_by',classified,True)\n",
    "df=df.astype({\"index\":int})\n",
    "df.insert(3,'time_edited',classified,True)\n",
    "                                                    #putting index\n",
    "new_shapefile_url=\"ESPT5.geojson\"\n",
    "df.to_file(new_shapefile_url,index=False,driver=\"GeoJSON\")"
   ]
  },
  {
   "cell_type": "code",
   "execution_count": 25,
   "id": "bd9afaa9-97d2-4047-9704-1233357149c2",
   "metadata": {},
   "outputs": [
    {
     "data": {
      "text/html": [
       "<div>\n",
       "<style scoped>\n",
       "    .dataframe tbody tr th:only-of-type {\n",
       "        vertical-align: middle;\n",
       "    }\n",
       "\n",
       "    .dataframe tbody tr th {\n",
       "        vertical-align: top;\n",
       "    }\n",
       "\n",
       "    .dataframe thead th {\n",
       "        text-align: right;\n",
       "    }\n",
       "</style>\n",
       "<table border=\"1\" class=\"dataframe\">\n",
       "  <thead>\n",
       "    <tr style=\"text-align: right;\">\n",
       "      <th></th>\n",
       "      <th>index</th>\n",
       "      <th>class</th>\n",
       "      <th>classified_by</th>\n",
       "      <th>time_edited</th>\n",
       "      <th>geometry</th>\n",
       "    </tr>\n",
       "  </thead>\n",
       "  <tbody>\n",
       "    <tr>\n",
       "      <th>0</th>\n",
       "      <td>0</td>\n",
       "      <td>None</td>\n",
       "      <td>wala pa</td>\n",
       "      <td>wala pa</td>\n",
       "      <td>MULTIPOLYGON (((123.37657 13.65513, 123.37656 ...</td>\n",
       "    </tr>\n",
       "    <tr>\n",
       "      <th>1</th>\n",
       "      <td>1</td>\n",
       "      <td>None</td>\n",
       "      <td>wala pa</td>\n",
       "      <td>wala pa</td>\n",
       "      <td>POLYGON ((123.28946 13.67448, 123.29313 13.674...</td>\n",
       "    </tr>\n",
       "    <tr>\n",
       "      <th>2</th>\n",
       "      <td>2</td>\n",
       "      <td>None</td>\n",
       "      <td>wala pa</td>\n",
       "      <td>wala pa</td>\n",
       "      <td>POLYGON ((123.30394 13.67382, 123.30392 13.673...</td>\n",
       "    </tr>\n",
       "    <tr>\n",
       "      <th>3</th>\n",
       "      <td>3</td>\n",
       "      <td>None</td>\n",
       "      <td>wala pa</td>\n",
       "      <td>wala pa</td>\n",
       "      <td>POLYGON ((123.30400 13.67447, 123.31487 13.674...</td>\n",
       "    </tr>\n",
       "    <tr>\n",
       "      <th>4</th>\n",
       "      <td>4</td>\n",
       "      <td>None</td>\n",
       "      <td>wala pa</td>\n",
       "      <td>wala pa</td>\n",
       "      <td>POLYGON ((123.31024 13.67432, 123.31024 13.674...</td>\n",
       "    </tr>\n",
       "    <tr>\n",
       "      <th>...</th>\n",
       "      <td>...</td>\n",
       "      <td>...</td>\n",
       "      <td>...</td>\n",
       "      <td>...</td>\n",
       "      <td>...</td>\n",
       "    </tr>\n",
       "    <tr>\n",
       "      <th>9017</th>\n",
       "      <td>9017</td>\n",
       "      <td>None</td>\n",
       "      <td>wala pa</td>\n",
       "      <td>wala pa</td>\n",
       "      <td>POLYGON ((123.18721 13.60275, 123.18721 13.603...</td>\n",
       "    </tr>\n",
       "    <tr>\n",
       "      <th>9018</th>\n",
       "      <td>9018</td>\n",
       "      <td>None</td>\n",
       "      <td>wala pa</td>\n",
       "      <td>wala pa</td>\n",
       "      <td>POLYGON ((123.19650 13.60684, 123.19647 13.606...</td>\n",
       "    </tr>\n",
       "    <tr>\n",
       "      <th>9019</th>\n",
       "      <td>9019</td>\n",
       "      <td>None</td>\n",
       "      <td>wala pa</td>\n",
       "      <td>wala pa</td>\n",
       "      <td>POLYGON ((123.18599 13.60329, 123.18590 13.603...</td>\n",
       "    </tr>\n",
       "    <tr>\n",
       "      <th>9020</th>\n",
       "      <td>9020</td>\n",
       "      <td>None</td>\n",
       "      <td>wala pa</td>\n",
       "      <td>wala pa</td>\n",
       "      <td>POLYGON ((123.18665 13.60302, 123.18665 13.602...</td>\n",
       "    </tr>\n",
       "    <tr>\n",
       "      <th>9021</th>\n",
       "      <td>9021</td>\n",
       "      <td>None</td>\n",
       "      <td>wala pa</td>\n",
       "      <td>wala pa</td>\n",
       "      <td>POLYGON ((123.18624 13.60264, 123.18624 13.602...</td>\n",
       "    </tr>\n",
       "  </tbody>\n",
       "</table>\n",
       "<p>9022 rows × 5 columns</p>\n",
       "</div>"
      ],
      "text/plain": [
       "      index class classified_by time_edited  \\\n",
       "0         0  None       wala pa     wala pa   \n",
       "1         1  None       wala pa     wala pa   \n",
       "2         2  None       wala pa     wala pa   \n",
       "3         3  None       wala pa     wala pa   \n",
       "4         4  None       wala pa     wala pa   \n",
       "...     ...   ...           ...         ...   \n",
       "9017   9017  None       wala pa     wala pa   \n",
       "9018   9018  None       wala pa     wala pa   \n",
       "9019   9019  None       wala pa     wala pa   \n",
       "9020   9020  None       wala pa     wala pa   \n",
       "9021   9021  None       wala pa     wala pa   \n",
       "\n",
       "                                               geometry  \n",
       "0     MULTIPOLYGON (((123.37657 13.65513, 123.37656 ...  \n",
       "1     POLYGON ((123.28946 13.67448, 123.29313 13.674...  \n",
       "2     POLYGON ((123.30394 13.67382, 123.30392 13.673...  \n",
       "3     POLYGON ((123.30400 13.67447, 123.31487 13.674...  \n",
       "4     POLYGON ((123.31024 13.67432, 123.31024 13.674...  \n",
       "...                                                 ...  \n",
       "9017  POLYGON ((123.18721 13.60275, 123.18721 13.603...  \n",
       "9018  POLYGON ((123.19650 13.60684, 123.19647 13.606...  \n",
       "9019  POLYGON ((123.18599 13.60329, 123.18590 13.603...  \n",
       "9020  POLYGON ((123.18665 13.60302, 123.18665 13.602...  \n",
       "9021  POLYGON ((123.18624 13.60264, 123.18624 13.602...  \n",
       "\n",
       "[9022 rows x 5 columns]"
      ]
     },
     "execution_count": 25,
     "metadata": {},
     "output_type": "execute_result"
    }
   ],
   "source": [
    "# 7\n",
    "df"
   ]
  },
  {
   "cell_type": "markdown",
   "id": "13a63284-4a6e-4489-b40e-9cbfc9179ffd",
   "metadata": {},
   "source": [
    "# Widget to display maps and labels"
   ]
  },
  {
   "cell_type": "code",
   "execution_count": 10,
   "id": "cf95b3c2-2de4-4788-ab1f-f62c3805789d",
   "metadata": {
    "tags": []
   },
   "outputs": [
    {
     "name": "stdout",
     "output_type": "stream",
     "text": [
      "worked1\n",
      "worked2\n"
     ]
    },
    {
     "data": {
      "application/vnd.jupyter.widget-view+json": {
       "model_id": "0f85251a39d94d7d9930b464e68e6c2c",
       "version_major": 2,
       "version_minor": 0
      },
      "text/plain": [
       "Map(center=[13.663327730812952, 123.26332179341834], controls=(WidgetControl(options=['position', 'transparent…"
      ]
     },
     "metadata": {},
     "output_type": "display_data"
    }
   ],
   "source": [
    "# 8\n",
    "#shapes = gpd.read_file(shapefile_url)\n",
    "labelled_td = \"ESPT5.geojson\"\n",
    "raster_to_use = \"to_segment_naga_RGB_for_label.tif\"\n",
    "\n",
    "shapes = gpd.read_file(labelled_td)\n",
    "print (\"worked1\")\n",
    "ind = np.where(pd.isna(shapes['class']))[0][0]\n",
    "print (\"worked2\")\n",
    "coords = list(shapes.loc[ind].geometry.centroid.coords)[0]\n",
    "Map = geemap.Map(layout=widgets.Layout(width='1200px', height='90px'))#center=(coords[1],coords[0]),zoom=16)\n",
    "#Map.clear_controls()\n",
    "out = widgets.Output()\n",
    "seg_count=len(shapes.index)\n",
    "labelled_count=seg_count-np.count_nonzero(pd.isnull(shapes), axis=0)[1]\n",
    "\n",
    "# widg = radio button widget for selecting class\n",
    "# widg2 = button widget to assign class chosen in widg\n",
    "# widg3 = button widget to save the shapefile\n",
    "# widg4 = text widget wherein the name of the labeller can be put\n",
    "# widg5 = text widget to show current number of labelled\n",
    "\n",
    "if shapes.loc[ind,'class']==shapes.loc[ind,'class']:\n",
    "    widg = widgets.RadioButtons(\n",
    "        options=classes,\n",
    "        equals = shapes.loc[ind,'class'],\n",
    "        description='Land cover:',\n",
    "        layout = widgets.Layout(width='200px'),\n",
    "    )\n",
    "else:\n",
    "    widg = widgets.RadioButtons(\n",
    "        options=classes,\n",
    "        description='Land cover:',\n",
    "        layout = widgets.Layout(width='200px'),\n",
    "    )\n",
    "\n",
    "widg_con = WidgetControl(widget=widg,position='topright')\n",
    "\n",
    "widg2 = widgets.Button(\n",
    "    description='Set',\n",
    "    tooltip='Set',\n",
    "    layout = widgets.Layout(width='100px')\n",
    ")\n",
    "widg_con2 = WidgetControl(widget=widg2,position='topright')\n",
    "\n",
    "widg3 = widgets.Button(\n",
    "    description='Save File',\n",
    "    tooltip='Save File',\n",
    "    layout = widgets.Layout(width='100px')\n",
    ")\n",
    "widg_con3 = WidgetControl(widget=widg3,position='topright')\n",
    "\n",
    "widg4 = widgets.Text(\n",
    "    value='JAP',\n",
    "    placeholder='Write your name',\n",
    "    description='Classified by:',\n",
    "    disabled=False   \n",
    ")\n",
    "\n",
    "widg_con4 = WidgetControl(widget=widg4,position='topleft')\n",
    "\n",
    "\n",
    "widg5 = widgets.Text(\n",
    "    value=str(labelled_count)+\" out of \"+str(seg_count)+\" (\"+str(round(labelled_count/seg_count*100,2))+\") %\",\n",
    "    placeholder='number of labels',\n",
    "    description='Progress',\n",
    "    disabled=True,\n",
    "    continuous_update=True\n",
    ")\n",
    "\n",
    "widg_con5 = WidgetControl(widget=widg5,position='topleft')\n",
    "\n",
    "\n",
    "Map.add_control(control=widg_con5)\n",
    "def assign(b):                                                                            # Behavior of the \"Set\" button\n",
    "    time_edited =datetime.now().strftime(\"%m/%d/%Y\")\n",
    "\n",
    "    global seg_count,labelled_count,ind, shapes, Map#, newMap\n",
    "    \n",
    "    shapes.loc[ind,\"class\"] = widg.value                      #updateing vector values\n",
    "    shapes.loc[ind,'classified_by'] = widg4.value\n",
    "    shapes.loc[ind,'time_edited']=time_edited\n",
    "    \n",
    "    \n",
    "    Map.remove(Map.find_layer(\"shape\"))\n",
    "    \n",
    "    ind = ind + 1\n",
    "    coords = list(shapes.loc[ind].geometry.centroid.coords)[0]\n",
    "    Map.add_gdf(shapes.loc[ind:ind],layer_name='shape',info_mode=None,fill_colors=[\"transparent\"],style={\"color\":\"#ff0000\",\"weight\":5},zoom_to_layer=True)\n",
    "    Map.setCenter(lon=coords[0],lat=coords[1],zoom=17)\n",
    "    \n",
    "    seg_count=len(shapes.index)\n",
    "    labelled_count=seg_count-np.count_nonzero(pd.isnull(shapes), axis=0)[1]\n",
    "    widg5.value=str(labelled_count)+\" out of \"+str(seg_count)+\" (\"+str(round(labelled_count/seg_count*100,2))+\") %\"\n",
    "    \n",
    "    update_display(Map,display_id='map')\n",
    "    if shapes.loc[ind,'class']==shapes.loc[ind,'class']:\n",
    "        print(shapes.loc[ind,'class'])\n",
    "        print (\"what is printing\")\n",
    "        with widg.hold_trait_notifications():\n",
    "            widg.value = shapes.loc[ind,'class']\n",
    "        #with widg5.hold_trait_notifications():\n",
    "        #    widg5.value=str(labelled_count)+\" out of \"+str(seg_count),\n",
    "    \n",
    "\n",
    "def save(b):                                                                            # Behavior of the \"Save\" button\n",
    "    global shapes, labelled_td\n",
    "    shapes.to_file(labelled_td)\n",
    "\n",
    "\n",
    "widg2.on_click(assign)\n",
    "widg3.on_click(save)\n",
    "#widg5.observe(labelled_count)\n",
    "\n",
    "Map.add_basemap('SATELLITE')\n",
    "Map.add_raster(new_raster_url,band=[3,2,1],layer_name='sentinel')      ##change this depending on satellite\n",
    "Map.add_gdf(shapes.loc[ind:ind],layer_name='shape',info_mode=None,zoom_to_layer=True,fill_colors=[\"transparent\"],style={\"color\":\"#ff0000\",\"weight\":2})\n",
    "Map.zoom_to_bounds(shapes.loc[ind].geometry.bounds)\n",
    "Map.setCenter(lon=coords[0],lat=coords[1],zoom=20)\n",
    "Map.add_control(control=widg_con)\n",
    "Map.add_control(control=widg_con2)\n",
    "Map.add_control(control=widg_con3)\n",
    "Map.add_control(control=widg_con4)\n",
    "\n",
    "\n",
    "#Map.addLayerControl()\n",
    "#Map.add_draw_control()\n",
    "\n",
    "temp = display(Map,display_id='map')"
   ]
  },
  {
   "cell_type": "code",
   "execution_count": 8,
   "id": "fbfe67e2-1ad6-4ed7-a818-25bb3c95d772",
   "metadata": {},
   "outputs": [
    {
     "data": {
      "text/html": [
       "<div>\n",
       "<style scoped>\n",
       "    .dataframe tbody tr th:only-of-type {\n",
       "        vertical-align: middle;\n",
       "    }\n",
       "\n",
       "    .dataframe tbody tr th {\n",
       "        vertical-align: top;\n",
       "    }\n",
       "\n",
       "    .dataframe thead th {\n",
       "        text-align: right;\n",
       "    }\n",
       "</style>\n",
       "<table border=\"1\" class=\"dataframe\">\n",
       "  <thead>\n",
       "    <tr style=\"text-align: right;\">\n",
       "      <th></th>\n",
       "      <th>index</th>\n",
       "      <th>class</th>\n",
       "      <th>classified_by</th>\n",
       "      <th>time_edited</th>\n",
       "      <th>geometry</th>\n",
       "    </tr>\n",
       "  </thead>\n",
       "  <tbody>\n",
       "    <tr>\n",
       "      <th>0</th>\n",
       "      <td>0</td>\n",
       "      <td>Others</td>\n",
       "      <td>JAP</td>\n",
       "      <td>09/26/2023</td>\n",
       "      <td>MULTIPOLYGON (((123.37657 13.65513, 123.37656 ...</td>\n",
       "    </tr>\n",
       "    <tr>\n",
       "      <th>1</th>\n",
       "      <td>1</td>\n",
       "      <td>Others</td>\n",
       "      <td>JAP</td>\n",
       "      <td>09/26/2023</td>\n",
       "      <td>POLYGON ((123.28946 13.67448, 123.29313 13.674...</td>\n",
       "    </tr>\n",
       "    <tr>\n",
       "      <th>2</th>\n",
       "      <td>2</td>\n",
       "      <td>Clouds</td>\n",
       "      <td>JAP</td>\n",
       "      <td>09/26/2023</td>\n",
       "      <td>POLYGON ((123.30394 13.67382, 123.30392 13.673...</td>\n",
       "    </tr>\n",
       "    <tr>\n",
       "      <th>3</th>\n",
       "      <td>3</td>\n",
       "      <td>Brush/Shrubs</td>\n",
       "      <td>JAP</td>\n",
       "      <td>09/26/2023</td>\n",
       "      <td>POLYGON ((123.30400 13.67447, 123.31487 13.674...</td>\n",
       "    </tr>\n",
       "    <tr>\n",
       "      <th>4</th>\n",
       "      <td>4</td>\n",
       "      <td>Brush/Shrubs</td>\n",
       "      <td>JAP</td>\n",
       "      <td>09/26/2023</td>\n",
       "      <td>POLYGON ((123.31024 13.67432, 123.31024 13.674...</td>\n",
       "    </tr>\n",
       "    <tr>\n",
       "      <th>...</th>\n",
       "      <td>...</td>\n",
       "      <td>...</td>\n",
       "      <td>...</td>\n",
       "      <td>...</td>\n",
       "      <td>...</td>\n",
       "    </tr>\n",
       "    <tr>\n",
       "      <th>9017</th>\n",
       "      <td>9017</td>\n",
       "      <td>NaN</td>\n",
       "      <td>wala pa</td>\n",
       "      <td>wala pa</td>\n",
       "      <td>POLYGON ((123.18721 13.60275, 123.18721 13.603...</td>\n",
       "    </tr>\n",
       "    <tr>\n",
       "      <th>9018</th>\n",
       "      <td>9018</td>\n",
       "      <td>NaN</td>\n",
       "      <td>wala pa</td>\n",
       "      <td>wala pa</td>\n",
       "      <td>POLYGON ((123.19650 13.60684, 123.19647 13.606...</td>\n",
       "    </tr>\n",
       "    <tr>\n",
       "      <th>9019</th>\n",
       "      <td>9019</td>\n",
       "      <td>NaN</td>\n",
       "      <td>wala pa</td>\n",
       "      <td>wala pa</td>\n",
       "      <td>POLYGON ((123.18599 13.60329, 123.18590 13.603...</td>\n",
       "    </tr>\n",
       "    <tr>\n",
       "      <th>9020</th>\n",
       "      <td>9020</td>\n",
       "      <td>NaN</td>\n",
       "      <td>wala pa</td>\n",
       "      <td>wala pa</td>\n",
       "      <td>POLYGON ((123.18665 13.60302, 123.18665 13.602...</td>\n",
       "    </tr>\n",
       "    <tr>\n",
       "      <th>9021</th>\n",
       "      <td>9021</td>\n",
       "      <td>NaN</td>\n",
       "      <td>wala pa</td>\n",
       "      <td>wala pa</td>\n",
       "      <td>POLYGON ((123.18624 13.60264, 123.18624 13.602...</td>\n",
       "    </tr>\n",
       "  </tbody>\n",
       "</table>\n",
       "<p>9022 rows × 5 columns</p>\n",
       "</div>"
      ],
      "text/plain": [
       "      index         class classified_by time_edited  \\\n",
       "0         0        Others           JAP  09/26/2023   \n",
       "1         1        Others           JAP  09/26/2023   \n",
       "2         2        Clouds           JAP  09/26/2023   \n",
       "3         3  Brush/Shrubs           JAP  09/26/2023   \n",
       "4         4  Brush/Shrubs           JAP  09/26/2023   \n",
       "...     ...           ...           ...         ...   \n",
       "9017   9017           NaN       wala pa     wala pa   \n",
       "9018   9018           NaN       wala pa     wala pa   \n",
       "9019   9019           NaN       wala pa     wala pa   \n",
       "9020   9020           NaN       wala pa     wala pa   \n",
       "9021   9021           NaN       wala pa     wala pa   \n",
       "\n",
       "                                               geometry  \n",
       "0     MULTIPOLYGON (((123.37657 13.65513, 123.37656 ...  \n",
       "1     POLYGON ((123.28946 13.67448, 123.29313 13.674...  \n",
       "2     POLYGON ((123.30394 13.67382, 123.30392 13.673...  \n",
       "3     POLYGON ((123.30400 13.67447, 123.31487 13.674...  \n",
       "4     POLYGON ((123.31024 13.67432, 123.31024 13.674...  \n",
       "...                                                 ...  \n",
       "9017  POLYGON ((123.18721 13.60275, 123.18721 13.603...  \n",
       "9018  POLYGON ((123.19650 13.60684, 123.19647 13.606...  \n",
       "9019  POLYGON ((123.18599 13.60329, 123.18590 13.603...  \n",
       "9020  POLYGON ((123.18665 13.60302, 123.18665 13.602...  \n",
       "9021  POLYGON ((123.18624 13.60264, 123.18624 13.602...  \n",
       "\n",
       "[9022 rows x 5 columns]"
      ]
     },
     "execution_count": 8,
     "metadata": {},
     "output_type": "execute_result"
    }
   ],
   "source": [
    "shapes"
   ]
  },
  {
   "cell_type": "code",
   "execution_count": 14,
   "id": "42dc0588-fd3a-4566-b3c4-9bbe006c7d3c",
   "metadata": {},
   "outputs": [
    {
     "data": {
      "text/plain": [
       "8814"
      ]
     },
     "execution_count": 14,
     "metadata": {},
     "output_type": "execute_result"
    }
   ],
   "source": [
    "np.count_nonzero(pd.isnull(shapes), axis=0)[1]"
   ]
  },
  {
   "cell_type": "code",
   "execution_count": 9,
   "id": "9d0a520a-f0b0-41df-b85b-4ef19e13367a",
   "metadata": {},
   "outputs": [
    {
     "data": {
      "text/plain": [
       "9022"
      ]
     },
     "execution_count": 9,
     "metadata": {},
     "output_type": "execute_result"
    }
   ],
   "source": [
    "len(shapes.index)"
   ]
  }
 ],
 "metadata": {
  "kernelspec": {
   "display_name": "Python 3 (ipykernel)",
   "language": "python",
   "name": "python3"
  },
  "language_info": {
   "codemirror_mode": {
    "name": "ipython",
    "version": 3
   },
   "file_extension": ".py",
   "mimetype": "text/x-python",
   "name": "python",
   "nbconvert_exporter": "python",
   "pygments_lexer": "ipython3",
   "version": "3.9.16"
  },
  "widgets": {
   "application/vnd.jupyter.widget-state+json": {
    "state": {
     "027915531f7c485d85b5766ff1f6ac64": {
      "model_module": "@jupyter-widgets/controls",
      "model_module_version": "2.0.0",
      "model_name": "ToggleButtonModel",
      "state": {
       "button_style": "primary",
       "icon": "folder-open",
       "layout": "IPY_MODEL_b2b96f55d46a45c49e867561ac5cfd51",
       "style": "IPY_MODEL_7d94e57fb62e42fab3ed9c9f11cb1f4f",
       "tooltip": "Open local vector/raster data"
      }
     },
     "0605b2d9a88f436ca9fb22f31c067130": {
      "model_module": "@jupyter-widgets/controls",
      "model_module_version": "2.0.0",
      "model_name": "ToggleButtonStyleModel",
      "state": {
       "description_width": "",
       "font_family": null,
       "font_size": null,
       "font_style": null,
       "font_variant": null,
       "font_weight": null,
       "text_color": null,
       "text_decoration": null
      }
     },
     "06d65a95d919426bbd5d81577c26a5d8": {
      "model_module": "@jupyter-widgets/controls",
      "model_module_version": "2.0.0",
      "model_name": "ToggleButtonStyleModel",
      "state": {
       "description_width": "",
       "font_family": null,
       "font_size": null,
       "font_style": null,
       "font_variant": null,
       "font_weight": null,
       "text_color": null,
       "text_decoration": null
      }
     },
     "0881075684bd4a36a4532d31a0c18c67": {
      "model_module": "@jupyter-widgets/base",
      "model_module_version": "2.0.0",
      "model_name": "LayoutModel",
      "state": {}
     },
     "0d9e497c93d4452d9ebaeeb93619b74e": {
      "model_module": "jupyter-leaflet",
      "model_module_version": "^0.17",
      "model_name": "LeafletMapStyleModel",
      "state": {
       "_model_module_version": "^0.17"
      }
     },
     "0ef3fb1927a5450fb32bea8e333aea96": {
      "model_module": "@jupyter-widgets/base",
      "model_module_version": "2.0.0",
      "model_name": "LayoutModel",
      "state": {
       "height": "28px",
       "padding": "0px 0px 0px 4px",
       "width": "28px"
      }
     },
     "0f5dcbdfcec147d4be615766a7780571": {
      "model_module": "@jupyter-widgets/base",
      "model_module_version": "2.0.0",
      "model_name": "LayoutModel",
      "state": {
       "height": "auto",
       "padding": "0px 0px 0px 4px",
       "width": "auto"
      }
     },
     "175557fadd2b40c8b5ceaffe382b48a9": {
      "model_module": "jupyter-leaflet",
      "model_module_version": "^0.17",
      "model_name": "LeafletTileLayerModel",
      "state": {
       "_model_module_version": "^0.17",
       "_view_module_version": "^0.17",
       "attribution": "Google Earth Engine",
       "name": "Drawn Features",
       "opacity": 0.5,
       "options": [
        "attribution",
        "bounds",
        "detect_retina",
        "max_native_zoom",
        "max_zoom",
        "min_native_zoom",
        "min_zoom",
        "no_wrap",
        "tile_size",
        "tms",
        "zoom_offset"
       ],
       "url": "https://earthengine.googleapis.com/v1alpha/projects/earthengine-legacy/maps/1d3e7f705a50882fe3747a2d3834708f-29b707b0a04a5e9e461b104e1d79ccb6/tiles/{z}/{x}/{y}",
       "visible": false
      }
     },
     "17dfa6f3b7a64643b63a54c4d3d641d9": {
      "model_module": "jupyter-leaflet",
      "model_module_version": "^0.17",
      "model_name": "LeafletMarkerClusterModel",
      "state": {
       "_model_module_version": "^0.17",
       "_view_module_version": "^0.17",
       "disable_clustering_at_zoom": 18,
       "max_cluster_radius": 80,
       "name": "Marker Cluster",
       "options": [
        "disable_clustering_at_zoom",
        "max_cluster_radius"
       ]
      }
     },
     "1803ca02c1ae4cf39933905896b30dbc": {
      "model_module": "@jupyter-widgets/controls",
      "model_module_version": "2.0.0",
      "model_name": "ButtonModel",
      "state": {
       "description": "Set",
       "layout": "IPY_MODEL_5fb81c4b2ef343dcb41aa5af4d300e95",
       "style": "IPY_MODEL_d3c9dbde84ad40b5a67da002ecb5dca2",
       "tooltip": "Set"
      }
     },
     "183aa448a5c44d9bb6d761d3f05d1533": {
      "model_module": "@jupyter-widgets/output",
      "model_module_version": "1.0.0",
      "model_name": "OutputModel",
      "state": {
       "layout": "IPY_MODEL_42948250b5594da19135220041c42936"
      }
     },
     "1aea84b396654b72be6a247a584fd797": {
      "model_module": "jupyter-leaflet",
      "model_module_version": "^0.17",
      "model_name": "LeafletWidgetControlModel",
      "state": {
       "_model_module": "jupyter-leaflet",
       "_model_module_version": "^0.17",
       "_view_count": null,
       "_view_module": "jupyter-leaflet",
       "_view_module_version": "^0.17",
       "options": [
        "position",
        "transparent_bg"
       ],
       "position": "topright",
       "widget": "IPY_MODEL_5c8249df4fc4493c8e562007d2be898f"
      }
     },
     "1fdbeb770357416ea208012d36a84beb": {
      "model_module": "@jupyter-widgets/base",
      "model_module_version": "2.0.0",
      "model_name": "LayoutModel",
      "state": {}
     },
     "295de97cbc0743c996f2d60e1e011f2f": {
      "model_module": "@jupyter-widgets/base",
      "model_module_version": "2.0.0",
      "model_name": "LayoutModel",
      "state": {
       "width": "120px"
      }
     },
     "2a894cd712d44f32a9bbc3bb85102419": {
      "model_module": "@jupyter-widgets/base",
      "model_module_version": "2.0.0",
      "model_name": "LayoutModel",
      "state": {}
     },
     "2e6d47a732a44008b2e81e638e43f8ff": {
      "model_module": "@jupyter-widgets/controls",
      "model_module_version": "2.0.0",
      "model_name": "DescriptionStyleModel",
      "state": {
       "description_width": ""
      }
     },
     "2ecb5ee811ba489299d243a021116269": {
      "model_module": "@jupyter-widgets/base",
      "model_module_version": "2.0.0",
      "model_name": "LayoutModel",
      "state": {}
     },
     "2ffd9f8c41de410cb86ca7a412624e9c": {
      "model_module": "@jupyter-widgets/controls",
      "model_module_version": "2.0.0",
      "model_name": "ToggleButtonModel",
      "state": {
       "button_style": "primary",
       "icon": "eraser",
       "layout": "IPY_MODEL_fb7fb8e18d514a06ad4e62479976e1cd",
       "style": "IPY_MODEL_d8349c7ec1a342a9a43e3dc23facb029",
       "tooltip": "Remove all drawn features"
      }
     },
     "3022c5a2f4264829aabd1641cff8181e": {
      "model_module": "@jupyter-widgets/base",
      "model_module_version": "2.0.0",
      "model_name": "LayoutModel",
      "state": {}
     },
     "30d0305c1b6e4c68aea59d4fd0d8d5d6": {
      "model_module": "@jupyter-widgets/controls",
      "model_module_version": "2.0.0",
      "model_name": "HBoxModel",
      "state": {
       "_view_count": 0,
       "children": [
        "IPY_MODEL_f656201a31fd41c3b14345f6c5ac3d5b"
       ],
       "layout": "IPY_MODEL_c3a9f2fed1d349e1804b16f62b6869de"
      }
     },
     "31b2e125eb8647faad301e174a37b042": {
      "model_module": "@jupyter-widgets/base",
      "model_module_version": "2.0.0",
      "model_name": "LayoutModel",
      "state": {
       "height": "auto",
       "padding": "0px 0px 0px 4px",
       "width": "auto"
      }
     },
     "3c901cb17592464e8af8f29e04e92126": {
      "model_module": "jupyter-leaflet",
      "model_module_version": "^0.17",
      "model_name": "LeafletWidgetControlModel",
      "state": {
       "_model_module": "jupyter-leaflet",
       "_model_module_version": "^0.17",
       "_view_count": null,
       "_view_module": "jupyter-leaflet",
       "_view_module_version": "^0.17",
       "options": [
        "position",
        "transparent_bg"
       ],
       "position": "topright",
       "widget": "IPY_MODEL_1803ca02c1ae4cf39933905896b30dbc"
      }
     },
     "3d93350d360f40829f6a798419c857c6": {
      "model_module": "@jupyter-widgets/base",
      "model_module_version": "2.0.0",
      "model_name": "LayoutModel",
      "state": {
       "margin": "0px 10px 0px 10px",
       "max_height": "250px",
       "max_width": "250px"
      }
     },
     "423e835388b74eab92a5930c87a31441": {
      "model_module": "@jupyter-widgets/controls",
      "model_module_version": "2.0.0",
      "model_name": "ToggleButtonStyleModel",
      "state": {
       "description_width": "",
       "font_family": null,
       "font_size": null,
       "font_style": null,
       "font_variant": null,
       "font_weight": null,
       "text_color": null,
       "text_decoration": null
      }
     },
     "42948250b5594da19135220041c42936": {
      "model_module": "@jupyter-widgets/base",
      "model_module_version": "2.0.0",
      "model_name": "LayoutModel",
      "state": {}
     },
     "42f9461ecc4a49c996356db16f0e2005": {
      "model_module": "@jupyter-widgets/controls",
      "model_module_version": "2.0.0",
      "model_name": "ToggleButtonStyleModel",
      "state": {
       "description_width": "",
       "font_family": null,
       "font_size": null,
       "font_style": null,
       "font_variant": null,
       "font_weight": null,
       "text_color": null,
       "text_decoration": null
      }
     },
     "44bb67c480c548df85dd2249b00e4882": {
      "model_module": "@jupyter-widgets/controls",
      "model_module_version": "2.0.0",
      "model_name": "RadioButtonsModel",
      "state": {
       "index": null,
       "layout": "IPY_MODEL_3022c5a2f4264829aabd1641cff8181e",
       "style": "IPY_MODEL_5af198ee1e2e4081b1cbe6043d754253"
      }
     },
     "47c5634b854f4d25b290b62ec66f03f2": {
      "model_module": "@jupyter-widgets/controls",
      "model_module_version": "2.0.0",
      "model_name": "ToggleButtonModel",
      "state": {
       "icon": "wrench",
       "layout": "IPY_MODEL_0ef3fb1927a5450fb32bea8e333aea96",
       "style": "IPY_MODEL_b9a1cfad25cb40b3b6fba873dfe3abef",
       "tooltip": "Toolbar"
      }
     },
     "4d41f66d1fd24226a1b6acdc874ad70e": {
      "model_module": "@jupyter-widgets/base",
      "model_module_version": "2.0.0",
      "model_name": "LayoutModel",
      "state": {
       "height": "auto",
       "padding": "0px 0px 0px 4px",
       "width": "auto"
      }
     },
     "4e8a5937c3ab421f9fcb8987bd2017fe": {
      "model_module": "@jupyter-widgets/base",
      "model_module_version": "2.0.0",
      "model_name": "LayoutModel",
      "state": {
       "width": "100px"
      }
     },
     "4ff0f42db36843879916fbe2c334d61c": {
      "model_module": "@jupyter-widgets/base",
      "model_module_version": "2.0.0",
      "model_name": "LayoutModel",
      "state": {
       "height": "auto",
       "padding": "0px 0px 0px 4px",
       "width": "auto"
      }
     },
     "50797950cf37454aaf98ca0efe08f8a5": {
      "model_module": "jupyter-leaflet",
      "model_module_version": "^0.17",
      "model_name": "LeafletWidgetControlModel",
      "state": {
       "_model_module": "jupyter-leaflet",
       "_model_module_version": "^0.17",
       "_view_count": null,
       "_view_module": "jupyter-leaflet",
       "_view_module_version": "^0.17",
       "options": [
        "position",
        "transparent_bg"
       ],
       "position": "topleft",
       "widget": "IPY_MODEL_30d0305c1b6e4c68aea59d4fd0d8d5d6"
      }
     },
     "53e6236acdf84789b33ee17772647a15": {
      "model_module": "@jupyter-widgets/controls",
      "model_module_version": "2.0.0",
      "model_name": "ToggleButtonModel",
      "state": {
       "button_style": "primary",
       "icon": "bar-chart",
       "layout": "IPY_MODEL_d9deaebe775244acb326b15da60dc4fe",
       "style": "IPY_MODEL_e45f979d271d4a50b061e068bd4df2da",
       "tooltip": "Plotting"
      }
     },
     "55a24a1b53254b8e9ad5ecda6bebb0bf": {
      "model_module": "@jupyter-widgets/controls",
      "model_module_version": "2.0.0",
      "model_name": "HTMLModel",
      "state": {
       "layout": "IPY_MODEL_5cd379ca602647e6809beea7023630ea",
       "style": "IPY_MODEL_7851282bb31f4c8fbfa44f41013d9fd7"
      }
     },
     "567676c831384ceca2be45f0abd1b565": {
      "model_module": "@jupyter-widgets/base",
      "model_module_version": "2.0.0",
      "model_name": "LayoutModel",
      "state": {}
     },
     "577289e188e3497885697d1f4a3fd63e": {
      "model_module": "@jupyter-widgets/controls",
      "model_module_version": "2.0.0",
      "model_name": "ToggleButtonStyleModel",
      "state": {
       "description_width": "",
       "font_family": null,
       "font_size": null,
       "font_style": null,
       "font_variant": null,
       "font_weight": null,
       "text_color": null,
       "text_decoration": null
      }
     },
     "578a7fc5c2ce46d4aa3ea5770b673f96": {
      "model_module": "@jupyter-widgets/base",
      "model_module_version": "2.0.0",
      "model_name": "LayoutModel",
      "state": {
       "height": "auto",
       "padding": "0px 0px 0px 4px",
       "width": "auto"
      }
     },
     "580b7004771b4dfdb96215750faa7a72": {
      "model_module": "@jupyter-widgets/controls",
      "model_module_version": "2.0.0",
      "model_name": "ButtonModel",
      "state": {
       "button_style": "primary",
       "description": "import",
       "layout": "IPY_MODEL_a7106edd14274f25819318a1bbaa9d9e",
       "style": "IPY_MODEL_fa32ea9a398e4dea890006506707cc77",
       "tooltip": "Click to import the selected asset"
      }
     },
     "5af198ee1e2e4081b1cbe6043d754253": {
      "model_module": "@jupyter-widgets/controls",
      "model_module_version": "2.0.0",
      "model_name": "DescriptionStyleModel",
      "state": {
       "description_width": ""
      }
     },
     "5c8249df4fc4493c8e562007d2be898f": {
      "model_module": "@jupyter-widgets/controls",
      "model_module_version": "2.0.0",
      "model_name": "ButtonModel",
      "state": {
       "description": "Save File",
       "layout": "IPY_MODEL_4e8a5937c3ab421f9fcb8987bd2017fe",
       "style": "IPY_MODEL_8387b34e7bb447a5ac988bf30615b211",
       "tooltip": "Save File"
      }
     },
     "5cbde626fb5347db9fd99ba867a3e4a6": {
      "model_module": "ipyevents",
      "model_module_version": "2.0.1",
      "model_name": "EventModel",
      "state": {
       "_supported_key_events": [
        "keydown",
        "keyup"
       ],
       "_supported_mouse_events": [
        "click",
        "auxclick",
        "dblclick",
        "mouseenter",
        "mouseleave",
        "mousedown",
        "mouseup",
        "mousemove",
        "wheel",
        "contextmenu",
        "dragstart",
        "drag",
        "dragend",
        "dragenter",
        "dragover",
        "dragleave",
        "drop"
       ],
       "_supported_touch_events": [
        "touchstart",
        "touchend",
        "touchmove",
        "touchcancel"
       ],
       "_view_module": "@jupyter-widgets/controls",
       "source": "IPY_MODEL_30d0305c1b6e4c68aea59d4fd0d8d5d6",
       "throttle_or_debounce": "",
       "watched_events": [
        "mouseenter",
        "mouseleave"
       ],
       "xy_coordinate_system": ""
      }
     },
     "5cd379ca602647e6809beea7023630ea": {
      "model_module": "@jupyter-widgets/base",
      "model_module_version": "2.0.0",
      "model_name": "LayoutModel",
      "state": {}
     },
     "5fb81c4b2ef343dcb41aa5af4d300e95": {
      "model_module": "@jupyter-widgets/base",
      "model_module_version": "2.0.0",
      "model_name": "LayoutModel",
      "state": {
       "width": "100px"
      }
     },
     "5ffbe128676c4c9b964f4ab8c6e9fff0": {
      "model_module": "@jupyter-widgets/controls",
      "model_module_version": "2.0.0",
      "model_name": "VBoxModel",
      "state": {
       "children": [
        "IPY_MODEL_929b187b1d374a55b92f82cfd334471d",
        "IPY_MODEL_d8577f9a52c54a70ae98363f8087d643"
       ],
       "layout": "IPY_MODEL_cb36aad4e67b47e7be34f869cd72a688"
      }
     },
     "61c6cb94eed443f89d6c43f8ba3c3021": {
      "model_module": "@jupyter-widgets/controls",
      "model_module_version": "2.0.0",
      "model_name": "ToggleButtonStyleModel",
      "state": {
       "description_width": "",
       "font_family": null,
       "font_size": null,
       "font_style": null,
       "font_variant": null,
       "font_weight": null,
       "text_color": null,
       "text_decoration": null
      }
     },
     "64877a944dcd4cd7a9abd7eafa4768bb": {
      "model_module": "jupyter-leaflet",
      "model_module_version": "^0.17",
      "model_name": "LeafletZoomControlModel",
      "state": {
       "_model_module_version": "^0.17",
       "_view_module_version": "^0.17",
       "options": [
        "position",
        "zoom_in_text",
        "zoom_in_title",
        "zoom_out_text",
        "zoom_out_title"
       ]
      }
     },
     "66a3f630128b4b75837facf661985aac": {
      "model_module": "@jupyter-widgets/controls",
      "model_module_version": "2.0.0",
      "model_name": "ToggleButtonModel",
      "state": {
       "button_style": "primary",
       "icon": "google",
       "layout": "IPY_MODEL_578a7fc5c2ce46d4aa3ea5770b673f96",
       "style": "IPY_MODEL_7a3e03830c6844459c5493423a1b475d",
       "tooltip": "GEE Toolbox for cloud computing"
      }
     },
     "67b0c2f6eacf4e528870255a512c5a07": {
      "model_module": "jupyter-leaflet",
      "model_module_version": "^0.17",
      "model_name": "LeafletWidgetControlModel",
      "state": {
       "_model_module": "jupyter-leaflet",
       "_model_module_version": "^0.17",
       "_view_count": null,
       "_view_module": "jupyter-leaflet",
       "_view_module_version": "^0.17",
       "options": [
        "position",
        "transparent_bg"
       ],
       "position": "topright",
       "widget": "IPY_MODEL_daab703fc3e54decb8050b7ae12997df"
      }
     },
     "68d58bb3a87541a7837004becd195b2f": {
      "model_module": "@jupyter-widgets/controls",
      "model_module_version": "2.0.0",
      "model_name": "ToggleButtonStyleModel",
      "state": {
       "description_width": "",
       "font_family": null,
       "font_size": null,
       "font_style": null,
       "font_variant": null,
       "font_weight": null,
       "text_color": null,
       "text_decoration": null
      }
     },
     "6b11278a37b9464096f9dc5bd251bd59": {
      "model_module": "@jupyter-widgets/base",
      "model_module_version": "2.0.0",
      "model_name": "LayoutModel",
      "state": {
       "height": "auto",
       "padding": "0px 0px 0px 4px",
       "width": "auto"
      }
     },
     "6c573bca51054e67bc53211e5867ecd0": {
      "model_module": "jupyter-leaflet",
      "model_module_version": "^0.17",
      "model_name": "LeafletDrawControlModel",
      "state": {
       "_model_module_version": "^0.17",
       "_view_module_version": "^0.17",
       "circle": {
        "shapeOptions": {
         "color": "#3388ff"
        }
       },
       "marker": {
        "shapeOptions": {
         "color": "#3388ff"
        }
       },
       "options": [
        "position"
       ],
       "rectangle": {
        "shapeOptions": {
         "color": "#3388ff"
        }
       }
      }
     },
     "6e967037749844488fe9cb4f43d59c19": {
      "model_module": "@jupyter-widgets/controls",
      "model_module_version": "2.0.0",
      "model_name": "DescriptionStyleModel",
      "state": {
       "description_width": ""
      }
     },
     "6eb72dfffbbc448c907d072b558b6750": {
      "model_module": "@jupyter-widgets/base",
      "model_module_version": "2.0.0",
      "model_name": "LayoutModel",
      "state": {
       "height": "auto",
       "padding": "0px 0px 0px 4px",
       "width": "auto"
      }
     },
     "707a29dc8cb846ed971770df63f9c8cc": {
      "model_module": "@jupyter-widgets/controls",
      "model_module_version": "2.0.0",
      "model_name": "ToggleButtonModel",
      "state": {
       "icon": "server",
       "layout": "IPY_MODEL_cde56ecb3ee64a80909142b4186cb3ee",
       "style": "IPY_MODEL_61c6cb94eed443f89d6c43f8ba3c3021",
       "tooltip": "Layers"
      }
     },
     "714938a6446647a28758c5881bec3605": {
      "model_module": "@jupyter-widgets/output",
      "model_module_version": "1.0.0",
      "model_name": "OutputModel",
      "state": {
       "layout": "IPY_MODEL_af4b5985863a4da699a38766b39f171d"
      }
     },
     "77f531e01bc3481699b0d3e85988cb4f": {
      "model_module": "@jupyter-widgets/base",
      "model_module_version": "2.0.0",
      "model_name": "LayoutModel",
      "state": {
       "height": "auto",
       "padding": "0px 0px 0px 4px",
       "width": "auto"
      }
     },
     "7851282bb31f4c8fbfa44f41013d9fd7": {
      "model_module": "@jupyter-widgets/controls",
      "model_module_version": "2.0.0",
      "model_name": "HTMLStyleModel",
      "state": {
       "description_width": "",
       "font_size": null,
       "text_color": null
      }
     },
     "7a3e03830c6844459c5493423a1b475d": {
      "model_module": "@jupyter-widgets/controls",
      "model_module_version": "2.0.0",
      "model_name": "ToggleButtonStyleModel",
      "state": {
       "description_width": "",
       "font_family": null,
       "font_size": null,
       "font_style": null,
       "font_variant": null,
       "font_weight": null,
       "text_color": null,
       "text_decoration": null
      }
     },
     "7b7bc97bd2984619aa4ee0ddcb119deb": {
      "model_module": "@jupyter-widgets/controls",
      "model_module_version": "2.0.0",
      "model_name": "HTMLStyleModel",
      "state": {
       "description_width": "",
       "font_size": null,
       "text_color": null
      }
     },
     "7d3384ca32074cb9801681af2bb5f4c6": {
      "model_module": "jupyter-leaflet",
      "model_module_version": "^0.17",
      "model_name": "LeafletGeoJSONModel",
      "state": {
       "_model_module_version": "^0.17",
       "_view_module_version": "^0.17",
       "data": {
        "bbox": [
         123.35148297339545,
         13.673724506975294,
         123.35342511188216,
         13.674358370319874
        ],
        "features": [
         {
          "bbox": [
           123.35148297339545,
           13.673724506975294,
           123.35342511188216,
           13.674358370319874
          ],
          "geometry": {
           "coordinates": [
            [
             [
              123.35148324160173,
              13.674358370319874
             ],
             [
              123.35148297339545,
              13.674177529003368
             ],
             [
              123.35157544334798,
              13.674177397855889
             ],
             [
              123.35157517507504,
              13.673996556538542
             ],
             [
              123.35166764495605,
              13.67399642535837
             ],
             [
              123.35166751078577,
              13.673906004699607
             ],
             [
              123.35175998063052,
              13.673905873485834
             ],
             [
              123.35175984642592,
              13.67381545282731
             ],
             [
              123.35194478604197,
              13.673815190298086
             ],
             [
              123.35194465176781,
              13.673724769640701
             ],
             [
              123.35212959130939,
              13.673724506975294
             ],
             [
              123.35212985999983,
              13.673905348285794
             ],
             [
              123.35222232983972,
              13.673905216899545
             ],
             [
              123.35222246422167,
              13.673995637552904
             ],
             [
              123.35314716291973,
              13.673994321784095
             ],
             [
              123.35314702818499,
              13.673903901139761
             ],
             [
              123.35342443766956,
              13.673903505739158
             ],
             [
              123.35342511188216,
              13.674355608940651
             ],
             [
              123.35148324160173,
              13.674358370319874
             ]
            ]
           ],
           "type": "Polygon"
          },
          "id": "0",
          "properties": {
           "class": null,
           "classified_by": null,
           "index": 0,
           "style": {
            "color": "black",
            "fillColor": "black"
           }
          },
          "type": "Feature"
         }
        ],
        "type": "FeatureCollection"
       },
       "hover_style": {
        "fillOpacity": 0.5,
        "weight": 2
       },
       "name": "shape",
       "style": {
        "color": "#000000",
        "fillOpacity": 0.1,
        "opacity": 1,
        "weight": 1
       }
      }
     },
     "7d94e57fb62e42fab3ed9c9f11cb1f4f": {
      "model_module": "@jupyter-widgets/controls",
      "model_module_version": "2.0.0",
      "model_name": "ToggleButtonStyleModel",
      "state": {
       "description_width": "",
       "font_family": null,
       "font_size": null,
       "font_style": null,
       "font_variant": null,
       "font_weight": null,
       "text_color": null,
       "text_decoration": null
      }
     },
     "80dcf2b9ec2546afa39b7f1a44a636c0": {
      "model_module": "jupyter-leaflet",
      "model_module_version": "^0.17",
      "model_name": "LeafletWidgetControlModel",
      "state": {
       "_model_module": "jupyter-leaflet",
       "_model_module_version": "^0.17",
       "_view_count": null,
       "_view_module": "jupyter-leaflet",
       "_view_module_version": "^0.17",
       "options": [
        "position",
        "transparent_bg"
       ],
       "position": "topleft",
       "widget": "IPY_MODEL_a2292123c6614c63a94e79af9bd6b221"
      }
     },
     "831db447a34a4b1e9c5d9f6405e69e33": {
      "model_module": "@jupyter-widgets/controls",
      "model_module_version": "2.0.0",
      "model_name": "GridBoxModel",
      "state": {
       "children": [
        "IPY_MODEL_f0c53b526f3240e4a4875abe733e66c4",
        "IPY_MODEL_53e6236acdf84789b33ee17772647a15",
        "IPY_MODEL_2ffd9f8c41de410cb86ca7a412624e9c",
        "IPY_MODEL_027915531f7c485d85b5766ff1f6ac64",
        "IPY_MODEL_f8cc718f71474ab1baafdb8b3d675c7d",
        "IPY_MODEL_86d76765d0d64d64879df16d41232b8e",
        "IPY_MODEL_66a3f630128b4b75837facf661985aac",
        "IPY_MODEL_b51df265b0524a1e86e5f3c8437aacce",
        "IPY_MODEL_c9b3b00d4ad04dfd8da47c8110c0b773",
        "IPY_MODEL_bde1fc0e8af64a1b852bb8906c8f1fe7",
        "IPY_MODEL_87503bb4d12d4ff396ed9ac3416bf06f",
        "IPY_MODEL_98bf4bd08e1148789dde9435813a0fc6",
        "IPY_MODEL_ba7168abc7f14b3bac721b7edda38308",
        "IPY_MODEL_cfee4fb6a0c24a85a968db4af2168920",
        "IPY_MODEL_868057409edc464aa22eedfa9e5ba770"
       ],
       "layout": "IPY_MODEL_8e65f2134c31431fab00fdb6c122f077"
      }
     },
     "8387b34e7bb447a5ac988bf30615b211": {
      "model_module": "@jupyter-widgets/controls",
      "model_module_version": "2.0.0",
      "model_name": "ButtonStyleModel",
      "state": {
       "font_family": null,
       "font_size": null,
       "font_style": null,
       "font_variant": null,
       "font_weight": null,
       "text_color": null,
       "text_decoration": null
      }
     },
     "868057409edc464aa22eedfa9e5ba770": {
      "model_module": "@jupyter-widgets/controls",
      "model_module_version": "2.0.0",
      "model_name": "ToggleButtonModel",
      "state": {
       "button_style": "primary",
       "icon": "info-circle",
       "layout": "IPY_MODEL_77f531e01bc3481699b0d3e85988cb4f",
       "style": "IPY_MODEL_a2e3f0527bae4c79b68acdabfef6646f",
       "tooltip": "Get COG/STAC pixel value"
      }
     },
     "86d76765d0d64d64879df16d41232b8e": {
      "model_module": "@jupyter-widgets/controls",
      "model_module_version": "2.0.0",
      "model_name": "ToggleButtonModel",
      "state": {
       "button_style": "primary",
       "icon": "gears",
       "layout": "IPY_MODEL_cd0dd8586c624f58bcac7bc3d436bc8a",
       "style": "IPY_MODEL_9be91e7e995740fba1ebdcdf5fef579c",
       "tooltip": "WhiteboxTools for local geoprocessing"
      }
     },
     "87503bb4d12d4ff396ed9ac3416bf06f": {
      "model_module": "@jupyter-widgets/controls",
      "model_module_version": "2.0.0",
      "model_name": "ToggleButtonModel",
      "state": {
       "button_style": "primary",
       "icon": "hand-o-up",
       "layout": "IPY_MODEL_6eb72dfffbbc448c907d072b558b6750",
       "style": "IPY_MODEL_423e835388b74eab92a5930c87a31441",
       "tooltip": "Collect training samples"
      }
     },
     "8d5d676559744e88bcdadbea6559a1f0": {
      "model_module": "@jupyter-widgets/base",
      "model_module_version": "2.0.0",
      "model_name": "LayoutModel",
      "state": {
       "height": "auto",
       "padding": "0px 0px 0px 4px",
       "width": "auto"
      }
     },
     "8e65f2134c31431fab00fdb6c122f077": {
      "model_module": "@jupyter-widgets/base",
      "model_module_version": "2.0.0",
      "model_name": "LayoutModel",
      "state": {
       "grid_gap": "1px 1px",
       "grid_template_columns": "32px 32px 32px ",
       "grid_template_rows": "32px 32px 32px 32px 32px ",
       "padding": "5px",
       "width": "109px"
      }
     },
     "8fddce4f46864e6c8ec7d4bc49c8b08b": {
      "model_module": "jupyter-leaflet",
      "model_module_version": "^0.17",
      "model_name": "LeafletZoomControlModel",
      "state": {
       "_model_module_version": "^0.17",
       "_view_module_version": "^0.17",
       "options": [
        "position",
        "zoom_in_text",
        "zoom_in_title",
        "zoom_out_text",
        "zoom_out_title"
       ]
      }
     },
     "91515d289ecb4f189c755e223b0c2cd7": {
      "model_module": "@jupyter-widgets/controls",
      "model_module_version": "2.0.0",
      "model_name": "ToggleButtonStyleModel",
      "state": {
       "description_width": "",
       "font_family": null,
       "font_size": null,
       "font_style": null,
       "font_variant": null,
       "font_weight": null,
       "text_color": null,
       "text_decoration": null
      }
     },
     "929b187b1d374a55b92f82cfd334471d": {
      "model_module": "@jupyter-widgets/controls",
      "model_module_version": "2.0.0",
      "model_name": "HBoxModel",
      "state": {
       "children": [
        "IPY_MODEL_d1b678b79661420c952d2d486c070060",
        "IPY_MODEL_c80e128983cc4eaa93917edca4344d09"
       ],
       "layout": "IPY_MODEL_1fdbeb770357416ea208012d36a84beb"
      }
     },
     "9407cd5b0fa44a448976c0c28194a64c": {
      "model_module": "@jupyter-widgets/controls",
      "model_module_version": "2.0.0",
      "model_name": "TextModel",
      "state": {
       "layout": "IPY_MODEL_cede3ce60d054e17aa5f43bcc07af0f3",
       "placeholder": "Search by place name or address",
       "style": "IPY_MODEL_9f88dc3531914510bc39daee23fe55da",
       "tooltip": "Search location"
      }
     },
     "98bf4bd08e1148789dde9435813a0fc6": {
      "model_module": "@jupyter-widgets/controls",
      "model_module_version": "2.0.0",
      "model_name": "ToggleButtonModel",
      "state": {
       "button_style": "primary",
       "icon": "line-chart",
       "layout": "IPY_MODEL_6b11278a37b9464096f9dc5bd251bd59",
       "style": "IPY_MODEL_577289e188e3497885697d1f4a3fd63e",
       "tooltip": "Creating and plotting transects"
      }
     },
     "9bc663b4c3da47ce9124b3f283f2534f": {
      "model_module": "jupyter-leaflet",
      "model_module_version": "^0.17",
      "model_name": "LeafletTileLayerModel",
      "state": {
       "_model_module_version": "^0.17",
       "_view_module_version": "^0.17",
       "attribution": "Raster file served by <a href='https://github.com/banesullivan/localtileserver' target='_blank'>localtileserver</a>.",
       "bounds": [
        [
         13.602075452786364,
         123.1727771136798
        ],
        [
         13.674547333045115,
         123.37654258144484
        ]
       ],
       "max_native_zoom": 30,
       "max_zoom": 30,
       "name": "sentinel",
       "options": [
        "attribution",
        "bounds",
        "detect_retina",
        "max_native_zoom",
        "max_zoom",
        "min_native_zoom",
        "min_zoom",
        "no_wrap",
        "tile_size",
        "tms",
        "zoom_offset"
       ],
       "show_loading": true,
       "url": "http://localhost:50806/api/tiles/{z}/{x}/{y}.png?&filename=C%3A%5CUsers%5Cronil%5CLUPA%5CAdditional%5Csentinel.tiff&band.0=3&band.1=2&band.2=1&min=0&max=3000.0&n_colors=255&projection=EPSG%3A3857"
      }
     },
     "9be91e7e995740fba1ebdcdf5fef579c": {
      "model_module": "@jupyter-widgets/controls",
      "model_module_version": "2.0.0",
      "model_name": "ToggleButtonStyleModel",
      "state": {
       "description_width": "",
       "font_family": null,
       "font_size": null,
       "font_style": null,
       "font_variant": null,
       "font_weight": null,
       "text_color": null,
       "text_decoration": null
      }
     },
     "9f88dc3531914510bc39daee23fe55da": {
      "model_module": "@jupyter-widgets/controls",
      "model_module_version": "2.0.0",
      "model_name": "TextStyleModel",
      "state": {
       "description_width": "",
       "font_size": null,
       "text_color": null
      }
     },
     "a0662bea88c043e48dc6cdbef7a66a6c": {
      "model_module": "jupyter-leaflet",
      "model_module_version": "^0.17",
      "model_name": "LeafletTileLayerModel",
      "state": {
       "_model_module_version": "^0.17",
       "_view_module_version": "^0.17",
       "attribution": "Google",
       "max_zoom": 24,
       "name": "Google Maps",
       "options": [
        "attribution",
        "bounds",
        "detect_retina",
        "max_native_zoom",
        "max_zoom",
        "min_native_zoom",
        "min_zoom",
        "no_wrap",
        "tile_size",
        "tms",
        "zoom_offset"
       ],
       "url": "https://mt1.google.com/vt/lyrs=m&x={x}&y={y}&z={z}"
      }
     },
     "a2292123c6614c63a94e79af9bd6b221": {
      "model_module": "@jupyter-widgets/controls",
      "model_module_version": "2.0.0",
      "model_name": "TextModel",
      "state": {
       "description": "Classified by:",
       "layout": "IPY_MODEL_2a894cd712d44f32a9bbc3bb85102419",
       "placeholder": "Write your name",
       "style": "IPY_MODEL_a5496280ab5b4387ab4e8b412a5e3d7d",
       "value": "Anonymous Panda"
      }
     },
     "a26269e726e048a29a4cab18407d21a8": {
      "model_module": "@jupyter-widgets/base",
      "model_module_version": "2.0.0",
      "model_name": "LayoutModel",
      "state": {}
     },
     "a2e3f0527bae4c79b68acdabfef6646f": {
      "model_module": "@jupyter-widgets/controls",
      "model_module_version": "2.0.0",
      "model_name": "ToggleButtonStyleModel",
      "state": {
       "description_width": "",
       "font_family": null,
       "font_size": null,
       "font_style": null,
       "font_variant": null,
       "font_weight": null,
       "text_color": null,
       "text_decoration": null
      }
     },
     "a5496280ab5b4387ab4e8b412a5e3d7d": {
      "model_module": "@jupyter-widgets/controls",
      "model_module_version": "2.0.0",
      "model_name": "TextStyleModel",
      "state": {
       "description_width": "",
       "font_size": null,
       "text_color": null
      }
     },
     "a687c7a2db93484480a52896b54e0455": {
      "model_module": "jupyter-leaflet",
      "model_module_version": "^0.17",
      "model_name": "LeafletScaleControlModel",
      "state": {
       "_model_module_version": "^0.17",
       "_view_module_version": "^0.17",
       "imperial": true,
       "max_width": 100,
       "metric": true,
       "options": [
        "imperial",
        "max_width",
        "metric",
        "position",
        "update_when_idle"
       ],
       "position": "bottomleft",
       "update_when_idle": false
      }
     },
     "a7106edd14274f25819318a1bbaa9d9e": {
      "model_module": "@jupyter-widgets/base",
      "model_module_version": "2.0.0",
      "model_name": "LayoutModel",
      "state": {
       "max_width": "57px",
       "min_width": "57px"
      }
     },
     "a7979ac259454940838f1e14ca8b9ef8": {
      "model_module": "@jupyter-widgets/base",
      "model_module_version": "2.0.0",
      "model_name": "LayoutModel",
      "state": {}
     },
     "a821d920e0d7448db0b001272be7e51f": {
      "model_module": "@jupyter-widgets/controls",
      "model_module_version": "2.0.0",
      "model_name": "VBoxModel",
      "state": {
       "_view_count": 0,
       "children": [
        "IPY_MODEL_47c5634b854f4d25b290b62ec66f03f2"
       ],
       "layout": "IPY_MODEL_0881075684bd4a36a4532d31a0c18c67"
      }
     },
     "a9cdbf1a2d364c3b98b55195ddb9eb72": {
      "model_module": "@jupyter-widgets/controls",
      "model_module_version": "2.0.0",
      "model_name": "VBoxModel",
      "state": {
       "children": [
        "IPY_MODEL_831db447a34a4b1e9c5d9f6405e69e33"
       ],
       "layout": "IPY_MODEL_ef27b70098b14cb1b3cfb1fbcbf7c142"
      }
     },
     "aae65fa925f84ada833838ed03858423": {
      "model_module": "jupyter-leaflet",
      "model_module_version": "^0.17",
      "model_name": "LeafletFullScreenControlModel",
      "state": {
       "_model_module_version": "^0.17",
       "_view_module_version": "^0.17",
       "options": [
        "position"
       ]
      }
     },
     "abbca6c702d54827ba10b9040b3837d4": {
      "model_module": "jupyter-leaflet",
      "model_module_version": "^0.17",
      "model_name": "LeafletMapStyleModel",
      "state": {
       "_model_module_version": "^0.17",
       "cursor": "move"
      }
     },
     "ac557b0ffec643e2a627c2d5178ac6ad": {
      "model_module": "jupyter-leaflet",
      "model_module_version": "^0.17",
      "model_name": "LeafletMapModel",
      "state": {
       "_model_module_version": "^0.17",
       "_view_module_version": "^0.17",
       "bottom": 3872962,
       "center": [
        13.674041438647585,
        123.35245404263881
       ],
       "controls": [
        "IPY_MODEL_67b0c2f6eacf4e528870255a512c5a07",
        "IPY_MODEL_3c901cb17592464e8af8f29e04e92126",
        "IPY_MODEL_1aea84b396654b72be6a247a584fd797",
        "IPY_MODEL_80dcf2b9ec2546afa39b7f1a44a636c0",
        "IPY_MODEL_f4511911b17c4672aa1f8582fbe767d2"
       ],
       "default_style": "IPY_MODEL_ad67c5465a774db9a5ac39cb29671ec3",
       "dragging_style": "IPY_MODEL_abbca6c702d54827ba10b9040b3837d4",
       "east": 123.38174343109132,
       "fullscreen": false,
       "interpolation": "bilinear",
       "layers": [
        "IPY_MODEL_ec96b34928b9499cbb7157843a656f52",
        "IPY_MODEL_a0662bea88c043e48dc6cdbef7a66a6c",
        "IPY_MODEL_db6443f9b9224ce78a50f48f2b456ad3",
        "IPY_MODEL_9bc663b4c3da47ce9124b3f283f2534f",
        "IPY_MODEL_7d3384ca32074cb9801681af2bb5f4c6",
        "IPY_MODEL_175557fadd2b40c8b5ceaffe382b48a9"
       ],
       "layout": "IPY_MODEL_e0fe7ee5fc4c45459b352ec5076450e0",
       "left": 7068347,
       "max_zoom": 24,
       "modisdate": "2023-07-31",
       "north": 13.684267912957742,
       "options": [
        "bounce_at_zoom_limits",
        "box_zoom",
        "center",
        "close_popup_on_click",
        "double_click_zoom",
        "dragging",
        "fullscreen",
        "inertia",
        "inertia_deceleration",
        "inertia_max_speed",
        "interpolation",
        "keyboard",
        "keyboard_pan_offset",
        "keyboard_zoom_offset",
        "max_zoom",
        "min_zoom",
        "prefer_canvas",
        "scroll_wheel_zoom",
        "tap",
        "tap_tolerance",
        "touch_zoom",
        "world_copy_jump",
        "zoom",
        "zoom_animation_threshold",
        "zoom_delta",
        "zoom_snap"
       ],
       "prefer_canvas": false,
       "right": 7069307,
       "scroll_wheel_zoom": true,
       "south": 13.659248291277201,
       "style": "IPY_MODEL_ad67c5465a774db9a5ac39cb29671ec3",
       "top": 3872362,
       "west": 123.34054470062257,
       "window_url": "http://localhost:8888/lab/tree/LUPA/Additional/Segmentation/UI.ipynb",
       "zoom": 18
      }
     },
     "ac8def2f6e994f1eb1da8eac8a723303": {
      "model_module": "@jupyter-widgets/base",
      "model_module_version": "2.0.0",
      "model_name": "LayoutModel",
      "state": {
       "height": "auto",
       "padding": "0px 0px 0px 4px",
       "width": "auto"
      }
     },
     "ad3d7f64035c4f80b8afaf6377e1e9ae": {
      "model_module": "@jupyter-widgets/output",
      "model_module_version": "1.0.0",
      "model_name": "OutputModel",
      "state": {
       "layout": "IPY_MODEL_567676c831384ceca2be45f0abd1b565"
      }
     },
     "ad67c5465a774db9a5ac39cb29671ec3": {
      "model_module": "jupyter-leaflet",
      "model_module_version": "^0.17",
      "model_name": "LeafletMapStyleModel",
      "state": {
       "_model_module_version": "^0.17"
      }
     },
     "af4b5985863a4da699a38766b39f171d": {
      "model_module": "@jupyter-widgets/base",
      "model_module_version": "2.0.0",
      "model_name": "LayoutModel",
      "state": {
       "max_height": "350px",
       "max_width": "340px",
       "overflow": "scroll"
      }
     },
     "b2b96f55d46a45c49e867561ac5cfd51": {
      "model_module": "@jupyter-widgets/base",
      "model_module_version": "2.0.0",
      "model_name": "LayoutModel",
      "state": {
       "height": "auto",
       "padding": "0px 0px 0px 4px",
       "width": "auto"
      }
     },
     "b3ec88a3501c457cbb56b4bfa87f6018": {
      "model_module": "@jupyter-widgets/controls",
      "model_module_version": "2.0.0",
      "model_name": "HBoxModel",
      "state": {
       "children": [
        "IPY_MODEL_580b7004771b4dfdb96215750faa7a72",
        "IPY_MODEL_f655cef468564d17ae70d5a23f4c8e01"
       ],
       "layout": "IPY_MODEL_b737173def4e4c96b79115b44f448290"
      }
     },
     "b51df265b0524a1e86e5f3c8437aacce": {
      "model_module": "@jupyter-widgets/controls",
      "model_module_version": "2.0.0",
      "model_name": "ToggleButtonModel",
      "state": {
       "button_style": "primary",
       "icon": "map",
       "layout": "IPY_MODEL_31b2e125eb8647faad301e174a37b042",
       "style": "IPY_MODEL_42f9461ecc4a49c996356db16f0e2005",
       "tooltip": "Change basemap"
      }
     },
     "b60552afa9c040a18fb0514fecf5ee6f": {
      "model_module": "@jupyter-widgets/controls",
      "model_module_version": "2.0.0",
      "model_name": "ToggleButtonsStyleModel",
      "state": {
       "button_width": "110px",
       "description_width": ""
      }
     },
     "b737173def4e4c96b79115b44f448290": {
      "model_module": "@jupyter-widgets/base",
      "model_module_version": "2.0.0",
      "model_name": "LayoutModel",
      "state": {}
     },
     "b80b405427b54a86ac3d1d4e90bdc17f": {
      "model_module": "@jupyter-widgets/controls",
      "model_module_version": "2.0.0",
      "model_name": "ToggleButtonStyleModel",
      "state": {
       "description_width": "",
       "font_family": null,
       "font_size": null,
       "font_style": null,
       "font_variant": null,
       "font_weight": null,
       "text_color": null,
       "text_decoration": null
      }
     },
     "b887e79761004c279a47ce72258eb38e": {
      "model_module": "jupyter-leaflet",
      "model_module_version": "^0.17",
      "model_name": "LeafletMeasureControlModel",
      "state": {
       "_model_module_version": "^0.17",
       "_view_module_version": "^0.17",
       "active_color": "orange",
       "options": [
        "active_color",
        "capture_z_index",
        "completed_color",
        "popup_options",
        "position",
        "primary_area_unit",
        "primary_length_unit",
        "secondary_area_unit",
        "secondary_length_unit"
       ],
       "position": "bottomleft",
       "primary_length_unit": "kilometers",
       "secondary_area_unit": null,
       "secondary_length_unit": null
      }
     },
     "b9a1cfad25cb40b3b6fba873dfe3abef": {
      "model_module": "@jupyter-widgets/controls",
      "model_module_version": "2.0.0",
      "model_name": "ToggleButtonStyleModel",
      "state": {
       "description_width": "",
       "font_family": null,
       "font_size": null,
       "font_style": null,
       "font_variant": null,
       "font_weight": null,
       "text_color": null,
       "text_decoration": null
      }
     },
     "ba7168abc7f14b3bac721b7edda38308": {
      "model_module": "@jupyter-widgets/controls",
      "model_module_version": "2.0.0",
      "model_name": "ToggleButtonModel",
      "state": {
       "button_style": "primary",
       "icon": "random",
       "layout": "IPY_MODEL_8d5d676559744e88bcdadbea6559a1f0",
       "style": "IPY_MODEL_bd9a2b0f0a2b4b459b0630762b08aab2",
       "tooltip": "Sankey plots"
      }
     },
     "bbed4cd722834f09841cf506db5d50d8": {
      "model_module": "jupyter-leaflet",
      "model_module_version": "^0.17",
      "model_name": "LeafletTileLayerModel",
      "state": {
       "_model_module_version": "^0.17",
       "_view_module_version": "^0.17",
       "attribution": "Google Earth Engine",
       "name": "Drawn Features",
       "opacity": 0.5,
       "options": [
        "attribution",
        "bounds",
        "detect_retina",
        "max_native_zoom",
        "max_zoom",
        "min_native_zoom",
        "min_zoom",
        "no_wrap",
        "tile_size",
        "tms",
        "zoom_offset"
       ],
       "url": "https://earthengine.googleapis.com/v1alpha/projects/earthengine-legacy/maps/d7171fa1ee3b2857df45f6cc54f9ca39-d237a820c888519239e8529f23958b70/tiles/{z}/{x}/{y}",
       "visible": false
      }
     },
     "bcb66da8147e4827b869afaa335434e2": {
      "model_module": "@jupyter-widgets/base",
      "model_module_version": "2.0.0",
      "model_name": "LayoutModel",
      "state": {
       "height": "28px",
       "padding": "0px 0px 0px 4px",
       "width": "28px"
      }
     },
     "bd15d1cb2f9b48eaa3ae9e486c5af00a": {
      "model_module": "@jupyter-widgets/controls",
      "model_module_version": "2.0.0",
      "model_name": "ToggleButtonStyleModel",
      "state": {
       "description_width": "",
       "font_family": null,
       "font_size": null,
       "font_style": null,
       "font_variant": null,
       "font_weight": null,
       "text_color": null,
       "text_decoration": null
      }
     },
     "bd9a2b0f0a2b4b459b0630762b08aab2": {
      "model_module": "@jupyter-widgets/controls",
      "model_module_version": "2.0.0",
      "model_name": "ToggleButtonStyleModel",
      "state": {
       "description_width": "",
       "font_family": null,
       "font_size": null,
       "font_style": null,
       "font_variant": null,
       "font_weight": null,
       "text_color": null,
       "text_decoration": null
      }
     },
     "bde1fc0e8af64a1b852bb8906c8f1fe7": {
      "model_module": "@jupyter-widgets/controls",
      "model_module_version": "2.0.0",
      "model_name": "ToggleButtonModel",
      "state": {
       "button_style": "primary",
       "icon": "fast-forward",
       "layout": "IPY_MODEL_0f5dcbdfcec147d4be615766a7780571",
       "style": "IPY_MODEL_91515d289ecb4f189c755e223b0c2cd7",
       "tooltip": "Activate timeslider"
      }
     },
     "bea28ffcf0414a30b103bacf508c836b": {
      "model_module": "@jupyter-widgets/base",
      "model_module_version": "2.0.0",
      "model_name": "LayoutModel",
      "state": {
       "width": "500px"
      }
     },
     "bfd27aec4fd24198b946a0f6284ffa9f": {
      "model_module": "@jupyter-widgets/controls",
      "model_module_version": "2.0.0",
      "model_name": "ToggleButtonStyleModel",
      "state": {
       "description_width": "",
       "font_family": null,
       "font_size": null,
       "font_style": null,
       "font_variant": null,
       "font_weight": null,
       "text_color": null,
       "text_decoration": null
      }
     },
     "c16db1916e8f4c45b8dd29ec8868b527": {
      "model_module": "@jupyter-widgets/base",
      "model_module_version": "2.0.0",
      "model_name": "LayoutModel",
      "state": {
       "height": "auto",
       "padding": "0px 0px 0px 4px",
       "width": "auto"
      }
     },
     "c32a69dcd8404d5193ff720b223f0b23": {
      "model_module": "@jupyter-widgets/output",
      "model_module_version": "1.0.0",
      "model_name": "OutputModel",
      "state": {
       "layout": "IPY_MODEL_a7979ac259454940838f1e14ca8b9ef8"
      }
     },
     "c3a9f2fed1d349e1804b16f62b6869de": {
      "model_module": "@jupyter-widgets/base",
      "model_module_version": "2.0.0",
      "model_name": "LayoutModel",
      "state": {}
     },
     "c4d90012087b48d7b5a32cac9c25283f": {
      "model_module": "@jupyter-widgets/controls",
      "model_module_version": "2.0.0",
      "model_name": "ToggleButtonStyleModel",
      "state": {
       "description_width": "",
       "font_family": null,
       "font_size": null,
       "font_style": null,
       "font_variant": null,
       "font_weight": null,
       "text_color": null,
       "text_decoration": null
      }
     },
     "c5ff811959f748d792eb6f2debd49041": {
      "model_module": "@jupyter-widgets/controls",
      "model_module_version": "2.0.0",
      "model_name": "HBoxModel",
      "state": {
       "children": [
        "IPY_MODEL_707a29dc8cb846ed971770df63f9c8cc",
        "IPY_MODEL_47c5634b854f4d25b290b62ec66f03f2"
       ],
       "layout": "IPY_MODEL_a26269e726e048a29a4cab18407d21a8"
      }
     },
     "c80e128983cc4eaa93917edca4344d09": {
      "model_module": "@jupyter-widgets/controls",
      "model_module_version": "2.0.0",
      "model_name": "ToggleButtonModel",
      "state": {
       "icon": "times",
       "layout": "IPY_MODEL_bcb66da8147e4827b869afaa335434e2",
       "style": "IPY_MODEL_68d58bb3a87541a7837004becd195b2f",
       "tooltip": "Close the tool"
      }
     },
     "c8b381db608a4dc4b129ad0b855df562": {
      "model_module": "jupyter-leaflet",
      "model_module_version": "^0.17",
      "model_name": "LeafletAttributionControlModel",
      "state": {
       "_model_module_version": "^0.17",
       "_view_module_version": "^0.17",
       "options": [
        "position",
        "prefix"
       ],
       "position": "bottomright",
       "prefix": "ipyleaflet"
      }
     },
     "c9b3b00d4ad04dfd8da47c8110c0b773": {
      "model_module": "@jupyter-widgets/controls",
      "model_module_version": "2.0.0",
      "model_name": "ToggleButtonModel",
      "state": {
       "button_style": "primary",
       "icon": "globe",
       "layout": "IPY_MODEL_4d41f66d1fd24226a1b6acdc874ad70e",
       "style": "IPY_MODEL_bfd27aec4fd24198b946a0f6284ffa9f",
       "tooltip": "Create timelapse"
      }
     },
     "cb36aad4e67b47e7be34f869cd72a688": {
      "model_module": "@jupyter-widgets/base",
      "model_module_version": "2.0.0",
      "model_name": "LayoutModel",
      "state": {}
     },
     "cc8a2a53de6f41ad9abdf233d73fe2a1": {
      "model_module": "@jupyter-widgets/base",
      "model_module_version": "2.0.0",
      "model_name": "LayoutModel",
      "state": {}
     },
     "cd0dd8586c624f58bcac7bc3d436bc8a": {
      "model_module": "@jupyter-widgets/base",
      "model_module_version": "2.0.0",
      "model_name": "LayoutModel",
      "state": {
       "height": "auto",
       "padding": "0px 0px 0px 4px",
       "width": "auto"
      }
     },
     "cde56ecb3ee64a80909142b4186cb3ee": {
      "model_module": "@jupyter-widgets/base",
      "model_module_version": "2.0.0",
      "model_name": "LayoutModel",
      "state": {
       "height": "28px",
       "width": "72px"
      }
     },
     "cede3ce60d054e17aa5f43bcc07af0f3": {
      "model_module": "@jupyter-widgets/base",
      "model_module_version": "2.0.0",
      "model_name": "LayoutModel",
      "state": {
       "width": "340px"
      }
     },
     "cfa5690a786c4de0a45b1eec6ae1ad0d": {
      "model_module": "ipyevents",
      "model_module_version": "2.0.1",
      "model_name": "EventModel",
      "state": {
       "_supported_key_events": [
        "keydown",
        "keyup"
       ],
       "_supported_mouse_events": [
        "click",
        "auxclick",
        "dblclick",
        "mouseenter",
        "mouseleave",
        "mousedown",
        "mouseup",
        "mousemove",
        "wheel",
        "contextmenu",
        "dragstart",
        "drag",
        "dragend",
        "dragenter",
        "dragover",
        "dragleave",
        "drop"
       ],
       "_supported_touch_events": [
        "touchstart",
        "touchend",
        "touchmove",
        "touchcancel"
       ],
       "_view_module": "@jupyter-widgets/controls",
       "source": "IPY_MODEL_a821d920e0d7448db0b001272be7e51f",
       "throttle_or_debounce": "",
       "watched_events": [
        "mouseenter",
        "mouseleave"
       ],
       "xy_coordinate_system": ""
      }
     },
     "cfee4fb6a0c24a85a968db4af2168920": {
      "model_module": "@jupyter-widgets/controls",
      "model_module_version": "2.0.0",
      "model_name": "ToggleButtonModel",
      "state": {
       "button_style": "primary",
       "icon": "adjust",
       "layout": "IPY_MODEL_4ff0f42db36843879916fbe2c334d61c",
       "style": "IPY_MODEL_b80b405427b54a86ac3d1d4e90bdc17f",
       "tooltip": "Planet imagery"
      }
     },
     "d1b678b79661420c952d2d486c070060": {
      "model_module": "@jupyter-widgets/controls",
      "model_module_version": "2.0.0",
      "model_name": "ToggleButtonModel",
      "state": {
       "icon": "info",
       "layout": "IPY_MODEL_ef88e3af7c3e45de872f876b6bf4e47d",
       "style": "IPY_MODEL_bd15d1cb2f9b48eaa3ae9e486c5af00a",
       "tooltip": "Toolbar",
       "value": true
      }
     },
     "d243f0dff0eb4dadb5444160b2fdefc2": {
      "model_module": "@jupyter-widgets/base",
      "model_module_version": "2.0.0",
      "model_name": "LayoutModel",
      "state": {
       "max_width": "279px",
       "min_width": "279px"
      }
     },
     "d2f8c3d5155f4ade872852363a72bfee": {
      "model_module": "jupyter-leaflet",
      "model_module_version": "^0.17",
      "model_name": "LeafletAttributionControlModel",
      "state": {
       "_model_module_version": "^0.17",
       "_view_module_version": "^0.17",
       "options": [
        "position",
        "prefix"
       ],
       "position": "bottomright",
       "prefix": "ipyleaflet"
      }
     },
     "d3c9dbde84ad40b5a67da002ecb5dca2": {
      "model_module": "@jupyter-widgets/controls",
      "model_module_version": "2.0.0",
      "model_name": "ButtonStyleModel",
      "state": {
       "font_family": null,
       "font_size": null,
       "font_style": null,
       "font_variant": null,
       "font_weight": null,
       "text_color": null,
       "text_decoration": null
      }
     },
     "d8349c7ec1a342a9a43e3dc23facb029": {
      "model_module": "@jupyter-widgets/controls",
      "model_module_version": "2.0.0",
      "model_name": "ToggleButtonStyleModel",
      "state": {
       "description_width": "",
       "font_family": null,
       "font_size": null,
       "font_style": null,
       "font_variant": null,
       "font_weight": null,
       "text_color": null,
       "text_decoration": null
      }
     },
     "d8577f9a52c54a70ae98363f8087d643": {
      "model_module": "@jupyter-widgets/controls",
      "model_module_version": "2.0.0",
      "model_name": "HTMLModel",
      "state": {
       "layout": "IPY_MODEL_3d93350d360f40829f6a798419c857c6",
       "style": "IPY_MODEL_7b7bc97bd2984619aa4ee0ddcb119deb"
      }
     },
     "d9deaebe775244acb326b15da60dc4fe": {
      "model_module": "@jupyter-widgets/base",
      "model_module_version": "2.0.0",
      "model_name": "LayoutModel",
      "state": {
       "height": "auto",
       "padding": "0px 0px 0px 4px",
       "width": "auto"
      }
     },
     "daab703fc3e54decb8050b7ae12997df": {
      "model_module": "@jupyter-widgets/controls",
      "model_module_version": "2.0.0",
      "model_name": "RadioButtonsModel",
      "state": {
       "_options_labels": [
        "Water",
        "Built-up",
        "Vegetation",
        "Trees",
        "Bare soil",
        "Clouds",
        "Cloud shadows",
        "Mixed"
       ],
       "description": "Land cover:",
       "index": 0,
       "layout": "IPY_MODEL_295de97cbc0743c996f2d60e1e011f2f",
       "style": "IPY_MODEL_6e967037749844488fe9cb4f43d59c19"
      }
     },
     "db6443f9b9224ce78a50f48f2b456ad3": {
      "model_module": "jupyter-leaflet",
      "model_module_version": "^0.17",
      "model_name": "LeafletTileLayerModel",
      "state": {
       "_model_module_version": "^0.17",
       "_view_module_version": "^0.17",
       "attribution": "Google",
       "max_zoom": 24,
       "name": "Google Satellite",
       "options": [
        "attribution",
        "bounds",
        "detect_retina",
        "max_native_zoom",
        "max_zoom",
        "min_native_zoom",
        "min_zoom",
        "no_wrap",
        "tile_size",
        "tms",
        "zoom_offset"
       ],
       "url": "https://mt1.google.com/vt/lyrs=s&x={x}&y={y}&z={z}"
      }
     },
     "de980d1cebb946e6a7b38848e8be0bcf": {
      "model_module": "jupyter-leaflet",
      "model_module_version": "^0.17",
      "model_name": "LeafletWidgetControlModel",
      "state": {
       "_model_module": "jupyter-leaflet",
       "_model_module_version": "^0.17",
       "_view_count": null,
       "_view_module": "jupyter-leaflet",
       "_view_module_version": "^0.17",
       "options": [
        "position",
        "transparent_bg"
       ],
       "position": "bottomright",
       "widget": "IPY_MODEL_5ffbe128676c4c9b964f4ab8c6e9fff0"
      }
     },
     "e0fe7ee5fc4c45459b352ec5076450e0": {
      "model_module": "@jupyter-widgets/base",
      "model_module_version": "2.0.0",
      "model_name": "LayoutModel",
      "state": {
       "height": "600px",
       "width": "960px"
      }
     },
     "e45f979d271d4a50b061e068bd4df2da": {
      "model_module": "@jupyter-widgets/controls",
      "model_module_version": "2.0.0",
      "model_name": "ToggleButtonStyleModel",
      "state": {
       "description_width": "",
       "font_family": null,
       "font_size": null,
       "font_style": null,
       "font_variant": null,
       "font_weight": null,
       "text_color": null,
       "text_decoration": null
      }
     },
     "ea83121fb5bc4e1b942930ceb3ac0432": {
      "model_module": "@jupyter-widgets/base",
      "model_module_version": "2.0.0",
      "model_name": "LayoutModel",
      "state": {
       "height": "28px",
       "padding": "0px 0px 0px 4px",
       "width": "28px"
      }
     },
     "ec96b34928b9499cbb7157843a656f52": {
      "model_module": "jupyter-leaflet",
      "model_module_version": "^0.17",
      "model_name": "LeafletTileLayerModel",
      "state": {
       "_model_module_version": "^0.17",
       "_view_module_version": "^0.17",
       "attribution": "&copy; <a href=\"https://www.openstreetmap.org/copyright\">OpenStreetMap</a> contributors",
       "base": true,
       "max_zoom": 19,
       "min_zoom": 1,
       "name": "OpenStreetMap.Mapnik",
       "options": [
        "attribution",
        "bounds",
        "detect_retina",
        "max_native_zoom",
        "max_zoom",
        "min_native_zoom",
        "min_zoom",
        "no_wrap",
        "tile_size",
        "tms",
        "zoom_offset"
       ],
       "url": "https://tile.openstreetmap.org/{z}/{x}/{y}.png"
      }
     },
     "ef11cdffd2b64b36aa1c5f5e53ff48e8": {
      "model_module": "@jupyter-widgets/controls",
      "model_module_version": "2.0.0",
      "model_name": "VBoxModel",
      "state": {
       "children": [
        "IPY_MODEL_f3b6ab06afac46ec8d0c6caf30ccfac2",
        "IPY_MODEL_9407cd5b0fa44a448976c0c28194a64c"
       ],
       "layout": "IPY_MODEL_cc8a2a53de6f41ad9abdf233d73fe2a1"
      }
     },
     "ef27b70098b14cb1b3cfb1fbcbf7c142": {
      "model_module": "@jupyter-widgets/base",
      "model_module_version": "2.0.0",
      "model_name": "LayoutModel",
      "state": {}
     },
     "ef88e3af7c3e45de872f876b6bf4e47d": {
      "model_module": "@jupyter-widgets/base",
      "model_module_version": "2.0.0",
      "model_name": "LayoutModel",
      "state": {
       "height": "28px",
       "padding": "0px 0px 0px 4px",
       "width": "28px"
      }
     },
     "f0c53b526f3240e4a4875abe733e66c4": {
      "model_module": "@jupyter-widgets/controls",
      "model_module_version": "2.0.0",
      "model_name": "ToggleButtonModel",
      "state": {
       "button_style": "primary",
       "icon": "info",
       "layout": "IPY_MODEL_c16db1916e8f4c45b8dd29ec8868b527",
       "style": "IPY_MODEL_c4d90012087b48d7b5a32cac9c25283f",
       "tooltip": "Inspector"
      }
     },
     "f3b6ab06afac46ec8d0c6caf30ccfac2": {
      "model_module": "@jupyter-widgets/controls",
      "model_module_version": "2.0.0",
      "model_name": "ToggleButtonsModel",
      "state": {
       "_options_labels": [
        "name/address",
        "lat-lon",
        "data"
       ],
       "button_style": "",
       "icons": [],
       "index": 0,
       "layout": "IPY_MODEL_2ecb5ee811ba489299d243a021116269",
       "style": "IPY_MODEL_b60552afa9c040a18fb0514fecf5ee6f",
       "tooltips": [
        "Search by place name or address",
        "Search by lat-lon coordinates",
        "Search Earth Engine data catalog"
       ]
      }
     },
     "f4511911b17c4672aa1f8582fbe767d2": {
      "model_module": "jupyter-leaflet",
      "model_module_version": "^0.17",
      "model_name": "LeafletDrawControlModel",
      "state": {
       "_model_module_version": "^0.17",
       "_view_module_version": "^0.17",
       "circle": {
        "shapeOptions": {
         "clickable": true,
         "color": "#3388ff",
         "fill": true,
         "fillColor": null,
         "fillOpacity": 0.2,
         "opacity": 0.5,
         "stroke": true,
         "weight": 4
        }
       },
       "data": [
        {
         "geometry": {
          "coordinates": [
           123.347032,
           13.671656
          ],
          "type": "Point"
         },
         "properties": {
          "style": {
           "alt": "Marker",
           "attribution": null,
           "autoPan": false,
           "autoPanOnFocus": true,
           "autoPanPadding": [
            50,
            50
           ],
           "autoPanSpeed": 10,
           "bubblingMouseEvents": false,
           "draggable": false,
           "icon": {
            "_initHooksCalled": true,
            "_needsInit": false,
            "options": {
             "iconAnchor": [
              12,
              41
             ],
             "iconRetinaUrl": "http://localhost:8888/lab/extensions/jupyter-leaflet/static/401d815dc206b8dc1b17cd0e37695975.png",
             "iconSize": [
              25,
              41
             ],
             "iconUrl": "http://localhost:8888/lab/extensions/jupyter-leaflet/static/2273e3d8ad9264b7daa5bdbf8e6b47f8.png",
             "popupAnchor": [
              1,
              -34
             ],
             "shadowAnchor": [
              12,
              41
             ],
             "shadowSize": [
              41,
              41
             ],
             "shadowUrl": "http://localhost:8888/lab/extensions/jupyter-leaflet/static/44a526eed258222515aa21eaffd14a96.png",
             "tooltipAnchor": [
              16,
              -28
             ]
            }
           },
           "interactive": true,
           "keyboard": true,
           "opacity": 1,
           "pane": "markerPane",
           "riseOffset": 250,
           "riseOnHover": false,
           "rotationAngle": 0,
           "rotationOrigin": "12px 41px",
           "shadowPane": "shadowPane",
           "title": "",
           "zIndexOffset": 0
          }
         },
         "type": "Feature"
        },
        {
         "geometry": {
          "coordinates": [
           123.349135,
           13.671677
          ],
          "type": "Point"
         },
         "properties": {
          "style": {
           "icon": {
            "_initHooksCalled": true,
            "_needsInit": false,
            "options": {
             "iconAnchor": [
              12,
              41
             ],
             "iconRetinaUrl": "http://localhost:8888/lab/extensions/jupyter-leaflet/static/401d815dc206b8dc1b17cd0e37695975.png",
             "iconSize": [
              25,
              41
             ],
             "iconUrl": "http://localhost:8888/lab/extensions/jupyter-leaflet/static/2273e3d8ad9264b7daa5bdbf8e6b47f8.png",
             "popupAnchor": [
              1,
              -34
             ],
             "shadowAnchor": [
              12,
              41
             ],
             "shadowSize": [
              41,
              41
             ],
             "shadowUrl": "http://localhost:8888/lab/extensions/jupyter-leaflet/static/44a526eed258222515aa21eaffd14a96.png",
             "tooltipAnchor": [
              16,
              -28
             ]
            }
           },
           "rotationAngle": 0,
           "rotationOrigin": "12px 41px"
          }
         },
         "type": "Feature"
        }
       ],
       "marker": {
        "shapeOptions": {
         "color": "#3388ff"
        }
       },
       "options": [
        "position"
       ],
       "polygon": {
        "shapeOptions": {
         "clickable": true,
         "color": "#3388ff",
         "fill": true,
         "fillColor": null,
         "fillOpacity": 0.2,
         "opacity": 0.5,
         "stroke": true,
         "weight": 4
        }
       },
       "polyline": {
        "shapeOptions": {
         "clickable": true,
         "color": "#3388ff",
         "fill": false,
         "opacity": 0.5,
         "stroke": true,
         "weight": 4
        }
       },
       "rectangle": {
        "shapeOptions": {
         "clickable": true,
         "color": "#3388ff",
         "fill": true,
         "fillColor": null,
         "fillOpacity": 0.2,
         "opacity": 0.5,
         "stroke": true,
         "weight": 4
        }
       }
      }
     },
     "f655cef468564d17ae70d5a23f4c8e01": {
      "model_module": "@jupyter-widgets/controls",
      "model_module_version": "2.0.0",
      "model_name": "DropdownModel",
      "state": {
       "index": null,
       "layout": "IPY_MODEL_d243f0dff0eb4dadb5444160b2fdefc2",
       "style": "IPY_MODEL_2e6d47a732a44008b2e81e638e43f8ff"
      }
     },
     "f656201a31fd41c3b14345f6c5ac3d5b": {
      "model_module": "@jupyter-widgets/controls",
      "model_module_version": "2.0.0",
      "model_name": "ToggleButtonModel",
      "state": {
       "icon": "globe",
       "layout": "IPY_MODEL_ea83121fb5bc4e1b942930ceb3ac0432",
       "style": "IPY_MODEL_0605b2d9a88f436ca9fb22f31c067130",
       "tooltip": "Search location/data"
      }
     },
     "f8cc718f71474ab1baafdb8b3d675c7d": {
      "model_module": "@jupyter-widgets/controls",
      "model_module_version": "2.0.0",
      "model_name": "ToggleButtonModel",
      "state": {
       "button_style": "primary",
       "icon": "retweet",
       "layout": "IPY_MODEL_ac8def2f6e994f1eb1da8eac8a723303",
       "style": "IPY_MODEL_06d65a95d919426bbd5d81577c26a5d8",
       "tooltip": "Convert Earth Engine JavaScript to Python"
      }
     },
     "f9c7b33924f44ac5a19a98d264ba6214": {
      "model_module": "jupyter-leaflet",
      "model_module_version": "^0.17",
      "model_name": "LeafletWidgetControlModel",
      "state": {
       "_model_module": "jupyter-leaflet",
       "_model_module_version": "^0.17",
       "_view_count": null,
       "_view_module": "jupyter-leaflet",
       "_view_module_version": "^0.17",
       "options": [
        "position",
        "transparent_bg"
       ],
       "position": "topright",
       "widget": "IPY_MODEL_a821d920e0d7448db0b001272be7e51f"
      }
     },
     "fa32ea9a398e4dea890006506707cc77": {
      "model_module": "@jupyter-widgets/controls",
      "model_module_version": "2.0.0",
      "model_name": "ButtonStyleModel",
      "state": {
       "font_family": null,
       "font_size": null,
       "font_style": null,
       "font_variant": null,
       "font_weight": null,
       "text_color": null,
       "text_decoration": null
      }
     },
     "fb7fb8e18d514a06ad4e62479976e1cd": {
      "model_module": "@jupyter-widgets/base",
      "model_module_version": "2.0.0",
      "model_name": "LayoutModel",
      "state": {
       "height": "auto",
       "padding": "0px 0px 0px 4px",
       "width": "auto"
      }
     }
    },
    "version_major": 2,
    "version_minor": 0
   }
  }
 },
 "nbformat": 4,
 "nbformat_minor": 5
}
